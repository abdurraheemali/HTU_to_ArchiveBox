{
  "nbformat": 4,
  "nbformat_minor": 0,
  "metadata": {
    "colab": {
      "provenance": [],
      "toc_visible": true,
      "authorship_tag": "ABX9TyO2JCbwimdF0KbReBisfV6R",
      "include_colab_link": true
    },
    "kernelspec": {
      "name": "python3",
      "display_name": "Python 3"
    },
    "language_info": {
      "name": "python"
    }
  },
  "cells": [
    {
      "cell_type": "markdown",
      "metadata": {
        "id": "view-in-github",
        "colab_type": "text"
      },
      "source": [
        "<a href=\"https://colab.research.google.com/github/abdurraheemali/HTU_to_ArchiveBox/blob/main/HTU_to_ArchiveBox.ipynb\" target=\"_parent\"><img src=\"https://colab.research.google.com/assets/colab-badge.svg\" alt=\"Open In Colab\"/></a>"
      ]
    },
    {
      "cell_type": "markdown",
      "source": [
        "# Simple history archiver\n",
        "# Last Verified: 2023-11-13\n",
        "\n",
        "Just takes URLs from your [\"History Trends Unlimited\"](https://chrome.google.com/webstore/detail/history-trends-unlimited/pnmchffiealhkdloeffcdnbgdnedheme) export and saves the pages.\n",
        "\n",
        "Limited but still useful. This dataset can be used for search or training personalized LLMs later."
      ],
      "metadata": {
        "id": "sOjv6iLtQCUg"
      }
    },
    {
      "cell_type": "code",
      "source": [
        "#https://github.com/karlicoss/HPI/blob/master/doc/SETUP.org\n",
        "%pip install --user HPI #Not used, just the next step after you get the archive\n"
      ],
      "metadata": {
        "colab": {
          "base_uri": "https://localhost:8080/"
        },
        "id": "e5ihAeUXOZ_t",
        "outputId": "65fd3c9f-7c52-4324-bb0d-96cf304839c2"
      },
      "execution_count": null,
      "outputs": [
        {
          "output_type": "stream",
          "name": "stdout",
          "text": [
            "Requirement already satisfied: HPI in /root/.local/lib/python3.10/site-packages (0.4.20231102)\n",
            "Requirement already satisfied: pytz in /usr/local/lib/python3.10/dist-packages (from HPI) (2023.3.post1)\n",
            "Requirement already satisfied: appdirs in /usr/local/lib/python3.10/dist-packages (from HPI) (1.4.4)\n",
            "Requirement already satisfied: more-itertools in /usr/local/lib/python3.10/dist-packages (from HPI) (10.1.0)\n",
            "Requirement already satisfied: decorator in /usr/local/lib/python3.10/dist-packages (from HPI) (4.4.2)\n",
            "Requirement already satisfied: click>=8.1 in /usr/local/lib/python3.10/dist-packages (from HPI) (8.1.7)\n",
            "Requirement already satisfied: kompress in /root/.local/lib/python3.10/site-packages (from HPI) (0.1.20231016)\n"
          ]
        }
      ]
    },
    {
      "cell_type": "code",
      "source": [
        "# https://github.com/ArchiveBox/ArchiveBox/wiki/Quickstart\n",
        "%pip install archivebox"
      ],
      "metadata": {
        "colab": {
          "base_uri": "https://localhost:8080/"
        },
        "id": "0ZVdwqIBOgC6",
        "outputId": "3d51e2ec-db15-4106-f823-10790fd1053a"
      },
      "execution_count": null,
      "outputs": [
        {
          "output_type": "stream",
          "name": "stdout",
          "text": [
            "Collecting archivebox\n",
            "  Downloading archivebox-0.7.1-py3-none-any.whl (513 kB)\n",
            "\u001b[2K     \u001b[90m━━━━━━━━━━━━━━━━━━━━━━━━━━━━━━━━━━━━━━━━\u001b[0m \u001b[32m513.6/513.6 kB\u001b[0m \u001b[31m5.6 MB/s\u001b[0m eta \u001b[36m0:00:00\u001b[0m\n",
            "\u001b[?25hCollecting croniter>=0.3.34 (from archivebox)\n",
            "  Downloading croniter-2.0.1-py2.py3-none-any.whl (19 kB)\n",
            "Collecting dateparser>=1.0.0 (from archivebox)\n",
            "  Downloading dateparser-1.1.8-py2.py3-none-any.whl (293 kB)\n",
            "\u001b[2K     \u001b[90m━━━━━━━━━━━━━━━━━━━━━━━━━━━━━━━━━━━━━━━━\u001b[0m \u001b[32m293.8/293.8 kB\u001b[0m \u001b[31m8.9 MB/s\u001b[0m eta \u001b[36m0:00:00\u001b[0m\n",
            "\u001b[?25hCollecting django-extensions>=3.0.3 (from archivebox)\n",
            "  Downloading django_extensions-3.2.3-py3-none-any.whl (229 kB)\n",
            "\u001b[2K     \u001b[90m━━━━━━━━━━━━━━━━━━━━━━━━━━━━━━━━━━━━━━━━\u001b[0m \u001b[32m229.9/229.9 kB\u001b[0m \u001b[31m9.8 MB/s\u001b[0m eta \u001b[36m0:00:00\u001b[0m\n",
            "\u001b[?25hCollecting django<3.2,>=3.1.3 (from archivebox)\n",
            "  Downloading Django-3.1.14-py3-none-any.whl (7.8 MB)\n",
            "\u001b[2K     \u001b[90m━━━━━━━━━━━━━━━━━━━━━━━━━━━━━━━━━━━━━━━━\u001b[0m \u001b[32m7.8/7.8 MB\u001b[0m \u001b[31m21.7 MB/s\u001b[0m eta \u001b[36m0:00:00\u001b[0m\n",
            "\u001b[?25hRequirement already satisfied: ipython>5.0.0 in /usr/local/lib/python3.10/dist-packages (from archivebox) (7.34.0)\n",
            "Collecting mypy-extensions>=0.4.3 (from archivebox)\n",
            "  Downloading mypy_extensions-1.0.0-py3-none-any.whl (4.7 kB)\n",
            "Collecting python-crontab>=2.5.1 (from archivebox)\n",
            "  Downloading python_crontab-3.0.0-py3-none-any.whl (27 kB)\n",
            "Requirement already satisfied: requests>=2.24.0 in /usr/local/lib/python3.10/dist-packages (from archivebox) (2.31.0)\n",
            "Collecting w3lib>=1.22.0 (from archivebox)\n",
            "  Downloading w3lib-2.1.2-py3-none-any.whl (21 kB)\n",
            "Collecting yt-dlp>=2021.4.11 (from archivebox)\n",
            "  Downloading yt_dlp-2023.10.13-py2.py3-none-any.whl (3.1 MB)\n",
            "\u001b[2K     \u001b[90m━━━━━━━━━━━━━━━━━━━━━━━━━━━━━━━━━━━━━━━━\u001b[0m \u001b[32m3.1/3.1 MB\u001b[0m \u001b[31m37.1 MB/s\u001b[0m eta \u001b[36m0:00:00\u001b[0m\n",
            "\u001b[?25hRequirement already satisfied: python-dateutil in /usr/local/lib/python3.10/dist-packages (from croniter>=0.3.34->archivebox) (2.8.2)\n",
            "Requirement already satisfied: pytz>2021.1 in /usr/local/lib/python3.10/dist-packages (from croniter>=0.3.34->archivebox) (2023.3.post1)\n",
            "Requirement already satisfied: regex!=2019.02.19,!=2021.8.27 in /usr/local/lib/python3.10/dist-packages (from dateparser>=1.0.0->archivebox) (2023.6.3)\n",
            "Requirement already satisfied: tzlocal in /usr/local/lib/python3.10/dist-packages (from dateparser>=1.0.0->archivebox) (5.2)\n",
            "Collecting asgiref<4,>=3.2.10 (from django<3.2,>=3.1.3->archivebox)\n",
            "  Downloading asgiref-3.7.2-py3-none-any.whl (24 kB)\n",
            "Requirement already satisfied: sqlparse>=0.2.2 in /usr/local/lib/python3.10/dist-packages (from django<3.2,>=3.1.3->archivebox) (0.4.4)\n",
            "INFO: pip is looking at multiple versions of django-extensions to determine which version is compatible with other requirements. This could take a while.\n",
            "Collecting django-extensions>=3.0.3 (from archivebox)\n",
            "  Downloading django_extensions-3.2.1-py3-none-any.whl (229 kB)\n",
            "\u001b[2K     \u001b[90m━━━━━━━━━━━━━━━━━━━━━━━━━━━━━━━━━━━━━━━━\u001b[0m \u001b[32m229.4/229.4 kB\u001b[0m \u001b[31m23.4 MB/s\u001b[0m eta \u001b[36m0:00:00\u001b[0m\n",
            "\u001b[?25h  Downloading django_extensions-3.2.0-py3-none-any.whl (229 kB)\n",
            "\u001b[2K     \u001b[90m━━━━━━━━━━━━━━━━━━━━━━━━━━━━━━━━━━━━━━━━\u001b[0m \u001b[32m229.1/229.1 kB\u001b[0m \u001b[31m23.5 MB/s\u001b[0m eta \u001b[36m0:00:00\u001b[0m\n",
            "\u001b[?25h  Downloading django_extensions-3.1.5-py3-none-any.whl (224 kB)\n",
            "\u001b[2K     \u001b[90m━━━━━━━━━━━━━━━━━━━━━━━━━━━━━━━━━━━━━━━━\u001b[0m \u001b[32m224.2/224.2 kB\u001b[0m \u001b[31m15.8 MB/s\u001b[0m eta \u001b[36m0:00:00\u001b[0m\n",
            "\u001b[?25hRequirement already satisfied: setuptools>=18.5 in /usr/local/lib/python3.10/dist-packages (from ipython>5.0.0->archivebox) (67.7.2)\n",
            "Collecting jedi>=0.16 (from ipython>5.0.0->archivebox)\n",
            "  Downloading jedi-0.19.1-py2.py3-none-any.whl (1.6 MB)\n",
            "\u001b[2K     \u001b[90m━━━━━━━━━━━━━━━━━━━━━━━━━━━━━━━━━━━━━━━━\u001b[0m \u001b[32m1.6/1.6 MB\u001b[0m \u001b[31m43.2 MB/s\u001b[0m eta \u001b[36m0:00:00\u001b[0m\n",
            "\u001b[?25hRequirement already satisfied: decorator in /usr/local/lib/python3.10/dist-packages (from ipython>5.0.0->archivebox) (4.4.2)\n",
            "Requirement already satisfied: pickleshare in /usr/local/lib/python3.10/dist-packages (from ipython>5.0.0->archivebox) (0.7.5)\n",
            "Requirement already satisfied: traitlets>=4.2 in /usr/local/lib/python3.10/dist-packages (from ipython>5.0.0->archivebox) (5.7.1)\n",
            "Requirement already satisfied: prompt-toolkit!=3.0.0,!=3.0.1,<3.1.0,>=2.0.0 in /usr/local/lib/python3.10/dist-packages (from ipython>5.0.0->archivebox) (3.0.39)\n",
            "Requirement already satisfied: pygments in /usr/local/lib/python3.10/dist-packages (from ipython>5.0.0->archivebox) (2.16.1)\n",
            "Requirement already satisfied: backcall in /usr/local/lib/python3.10/dist-packages (from ipython>5.0.0->archivebox) (0.2.0)\n",
            "Requirement already satisfied: matplotlib-inline in /usr/local/lib/python3.10/dist-packages (from ipython>5.0.0->archivebox) (0.1.6)\n",
            "Requirement already satisfied: pexpect>4.3 in /usr/local/lib/python3.10/dist-packages (from ipython>5.0.0->archivebox) (4.8.0)\n",
            "Requirement already satisfied: charset-normalizer<4,>=2 in /usr/local/lib/python3.10/dist-packages (from requests>=2.24.0->archivebox) (3.3.2)\n",
            "Requirement already satisfied: idna<4,>=2.5 in /usr/local/lib/python3.10/dist-packages (from requests>=2.24.0->archivebox) (3.4)\n",
            "Requirement already satisfied: urllib3<3,>=1.21.1 in /usr/local/lib/python3.10/dist-packages (from requests>=2.24.0->archivebox) (2.0.7)\n",
            "Requirement already satisfied: certifi>=2017.4.17 in /usr/local/lib/python3.10/dist-packages (from requests>=2.24.0->archivebox) (2023.7.22)\n",
            "Collecting mutagen (from yt-dlp>=2021.4.11->archivebox)\n",
            "  Downloading mutagen-1.47.0-py3-none-any.whl (194 kB)\n",
            "\u001b[2K     \u001b[90m━━━━━━━━━━━━━━━━━━━━━━━━━━━━━━━━━━━━━━━━\u001b[0m \u001b[32m194.4/194.4 kB\u001b[0m \u001b[31m21.3 MB/s\u001b[0m eta \u001b[36m0:00:00\u001b[0m\n",
            "\u001b[?25hCollecting pycryptodomex (from yt-dlp>=2021.4.11->archivebox)\n",
            "  Downloading pycryptodomex-3.19.0-cp35-abi3-manylinux_2_17_x86_64.manylinux2014_x86_64.whl (2.1 MB)\n",
            "\u001b[2K     \u001b[90m━━━━━━━━━━━━━━━━━━━━━━━━━━━━━━━━━━━━━━━━\u001b[0m \u001b[32m2.1/2.1 MB\u001b[0m \u001b[31m51.2 MB/s\u001b[0m eta \u001b[36m0:00:00\u001b[0m\n",
            "\u001b[?25hCollecting websockets (from yt-dlp>=2021.4.11->archivebox)\n",
            "  Downloading websockets-12.0-cp310-cp310-manylinux_2_5_x86_64.manylinux1_x86_64.manylinux_2_17_x86_64.manylinux2014_x86_64.whl (130 kB)\n",
            "\u001b[2K     \u001b[90m━━━━━━━━━━━━━━━━━━━━━━━━━━━━━━━━━━━━━━━━\u001b[0m \u001b[32m130.2/130.2 kB\u001b[0m \u001b[31m14.0 MB/s\u001b[0m eta \u001b[36m0:00:00\u001b[0m\n",
            "\u001b[?25hCollecting brotli (from yt-dlp>=2021.4.11->archivebox)\n",
            "  Downloading Brotli-1.1.0-cp310-cp310-manylinux_2_5_x86_64.manylinux1_x86_64.manylinux_2_12_x86_64.manylinux2010_x86_64.whl (3.0 MB)\n",
            "\u001b[2K     \u001b[90m━━━━━━━━━━━━━━━━━━━━━━━━━━━━━━━━━━━━━━━━\u001b[0m \u001b[32m3.0/3.0 MB\u001b[0m \u001b[31m54.1 MB/s\u001b[0m eta \u001b[36m0:00:00\u001b[0m\n",
            "\u001b[?25hRequirement already satisfied: typing-extensions>=4 in /usr/local/lib/python3.10/dist-packages (from asgiref<4,>=3.2.10->django<3.2,>=3.1.3->archivebox) (4.5.0)\n",
            "Requirement already satisfied: parso<0.9.0,>=0.8.3 in /usr/local/lib/python3.10/dist-packages (from jedi>=0.16->ipython>5.0.0->archivebox) (0.8.3)\n",
            "Requirement already satisfied: ptyprocess>=0.5 in /usr/local/lib/python3.10/dist-packages (from pexpect>4.3->ipython>5.0.0->archivebox) (0.7.0)\n",
            "Requirement already satisfied: wcwidth in /usr/local/lib/python3.10/dist-packages (from prompt-toolkit!=3.0.0,!=3.0.1,<3.1.0,>=2.0.0->ipython>5.0.0->archivebox) (0.2.9)\n",
            "Requirement already satisfied: six>=1.5 in /usr/local/lib/python3.10/dist-packages (from python-dateutil->croniter>=0.3.34->archivebox) (1.16.0)\n",
            "Installing collected packages: brotli, websockets, w3lib, pycryptodomex, mypy-extensions, mutagen, jedi, asgiref, yt-dlp, python-crontab, django, dateparser, croniter, django-extensions, archivebox\n",
            "Successfully installed archivebox-0.7.1 asgiref-3.7.2 brotli-1.1.0 croniter-2.0.1 dateparser-1.1.8 django-3.1.14 django-extensions-3.1.5 jedi-0.19.1 mutagen-1.47.0 mypy-extensions-1.0.0 pycryptodomex-3.19.0 python-crontab-3.0.0 w3lib-2.1.2 websockets-12.0 yt-dlp-2023.10.13\n"
          ]
        }
      ]
    },
    {
      "cell_type": "code",
      "source": [
        "file_path = \"/content/htu_backup_20231113_131847.tsv\""
      ],
      "metadata": {
        "id": "OiALgY9AU4WH"
      },
      "execution_count": null,
      "outputs": []
    },
    {
      "cell_type": "code",
      "source": [
        "import pandas as pd\n",
        "\n",
        "# Reading the file into a DataFrame for analysis\n",
        "if 'analyze' in file_path:\n",
        "  df = pd.read_csv(file_path, delimiter='\\t', header=None, names=[\n",
        "    'URL', 'Host', 'Domain', 'Visit Time (ms)', 'Visit Time (string)', 'Day of Week', 'Transition Type', 'Page Title'\n",
        "])\n",
        "elif 'backup' in file_path:\n",
        "  df = pd.read_csv(file_path, delimiter='\\t', header=None, names=['URL', 'Visit Time', 'Transition Type', 'Page Title'])\n",
        "\n",
        "\n",
        "# Checking the first few rows of the DataFrame to understand its structure\n",
        "df.head()"
      ],
      "metadata": {
        "colab": {
          "base_uri": "https://localhost:8080/",
          "height": 330
        },
        "id": "SbYbkGXMUSp-",
        "outputId": "c97e0ffe-8d2e-426f-d1fc-128260b0f724"
      },
      "execution_count": null,
      "outputs": [
        {
          "output_type": "execute_result",
          "data": {
            "text/plain": [
              "                                                 URL           Visit Time  \\\n",
              "0  data:image/png;base64,iVBORw0KGgoAAAANSUhEUgAA...   U1691937320297.467   \n",
              "1  file:///C:/Program%20Files/Blackmagic%20Design...   U1665265193012.476   \n",
              "2  file:///C:/Program%20Files/Blackmagic%20Design...  U1665596730177.9138   \n",
              "3  file:///C:/Program%20Files/Blackmagic%20Design...  U1665678165245.7021   \n",
              "4  file:///C:/Program%20Files/Blackmagic%20Design...   U1666025177706.761   \n",
              "\n",
              "   Transition Type           Page Title  \n",
              "0                0          png (99×99)  \n",
              "1                6  DaVinci Resolve.pdf  \n",
              "2                8  DaVinci Resolve.pdf  \n",
              "3                8  DaVinci Resolve.pdf  \n",
              "4                8  DaVinci Resolve.pdf  "
            ],
            "text/html": [
              "\n",
              "  <div id=\"df-39ea7c74-ea11-4769-b2ea-b653e3e9393b\" class=\"colab-df-container\">\n",
              "    <div>\n",
              "<style scoped>\n",
              "    .dataframe tbody tr th:only-of-type {\n",
              "        vertical-align: middle;\n",
              "    }\n",
              "\n",
              "    .dataframe tbody tr th {\n",
              "        vertical-align: top;\n",
              "    }\n",
              "\n",
              "    .dataframe thead th {\n",
              "        text-align: right;\n",
              "    }\n",
              "</style>\n",
              "<table border=\"1\" class=\"dataframe\">\n",
              "  <thead>\n",
              "    <tr style=\"text-align: right;\">\n",
              "      <th></th>\n",
              "      <th>URL</th>\n",
              "      <th>Visit Time</th>\n",
              "      <th>Transition Type</th>\n",
              "      <th>Page Title</th>\n",
              "    </tr>\n",
              "  </thead>\n",
              "  <tbody>\n",
              "    <tr>\n",
              "      <th>0</th>\n",
              "      <td>data:image/png;base64,iVBORw0KGgoAAAANSUhEUgAA...</td>\n",
              "      <td>U1691937320297.467</td>\n",
              "      <td>0</td>\n",
              "      <td>png (99×99)</td>\n",
              "    </tr>\n",
              "    <tr>\n",
              "      <th>1</th>\n",
              "      <td>file:///C:/Program%20Files/Blackmagic%20Design...</td>\n",
              "      <td>U1665265193012.476</td>\n",
              "      <td>6</td>\n",
              "      <td>DaVinci Resolve.pdf</td>\n",
              "    </tr>\n",
              "    <tr>\n",
              "      <th>2</th>\n",
              "      <td>file:///C:/Program%20Files/Blackmagic%20Design...</td>\n",
              "      <td>U1665596730177.9138</td>\n",
              "      <td>8</td>\n",
              "      <td>DaVinci Resolve.pdf</td>\n",
              "    </tr>\n",
              "    <tr>\n",
              "      <th>3</th>\n",
              "      <td>file:///C:/Program%20Files/Blackmagic%20Design...</td>\n",
              "      <td>U1665678165245.7021</td>\n",
              "      <td>8</td>\n",
              "      <td>DaVinci Resolve.pdf</td>\n",
              "    </tr>\n",
              "    <tr>\n",
              "      <th>4</th>\n",
              "      <td>file:///C:/Program%20Files/Blackmagic%20Design...</td>\n",
              "      <td>U1666025177706.761</td>\n",
              "      <td>8</td>\n",
              "      <td>DaVinci Resolve.pdf</td>\n",
              "    </tr>\n",
              "  </tbody>\n",
              "</table>\n",
              "</div>\n",
              "    <div class=\"colab-df-buttons\">\n",
              "\n",
              "  <div class=\"colab-df-container\">\n",
              "    <button class=\"colab-df-convert\" onclick=\"convertToInteractive('df-39ea7c74-ea11-4769-b2ea-b653e3e9393b')\"\n",
              "            title=\"Convert this dataframe to an interactive table.\"\n",
              "            style=\"display:none;\">\n",
              "\n",
              "  <svg xmlns=\"http://www.w3.org/2000/svg\" height=\"24px\" viewBox=\"0 -960 960 960\">\n",
              "    <path d=\"M120-120v-720h720v720H120Zm60-500h600v-160H180v160Zm220 220h160v-160H400v160Zm0 220h160v-160H400v160ZM180-400h160v-160H180v160Zm440 0h160v-160H620v160ZM180-180h160v-160H180v160Zm440 0h160v-160H620v160Z\"/>\n",
              "  </svg>\n",
              "    </button>\n",
              "\n",
              "  <style>\n",
              "    .colab-df-container {\n",
              "      display:flex;\n",
              "      gap: 12px;\n",
              "    }\n",
              "\n",
              "    .colab-df-convert {\n",
              "      background-color: #E8F0FE;\n",
              "      border: none;\n",
              "      border-radius: 50%;\n",
              "      cursor: pointer;\n",
              "      display: none;\n",
              "      fill: #1967D2;\n",
              "      height: 32px;\n",
              "      padding: 0 0 0 0;\n",
              "      width: 32px;\n",
              "    }\n",
              "\n",
              "    .colab-df-convert:hover {\n",
              "      background-color: #E2EBFA;\n",
              "      box-shadow: 0px 1px 2px rgba(60, 64, 67, 0.3), 0px 1px 3px 1px rgba(60, 64, 67, 0.15);\n",
              "      fill: #174EA6;\n",
              "    }\n",
              "\n",
              "    .colab-df-buttons div {\n",
              "      margin-bottom: 4px;\n",
              "    }\n",
              "\n",
              "    [theme=dark] .colab-df-convert {\n",
              "      background-color: #3B4455;\n",
              "      fill: #D2E3FC;\n",
              "    }\n",
              "\n",
              "    [theme=dark] .colab-df-convert:hover {\n",
              "      background-color: #434B5C;\n",
              "      box-shadow: 0px 1px 3px 1px rgba(0, 0, 0, 0.15);\n",
              "      filter: drop-shadow(0px 1px 2px rgba(0, 0, 0, 0.3));\n",
              "      fill: #FFFFFF;\n",
              "    }\n",
              "  </style>\n",
              "\n",
              "    <script>\n",
              "      const buttonEl =\n",
              "        document.querySelector('#df-39ea7c74-ea11-4769-b2ea-b653e3e9393b button.colab-df-convert');\n",
              "      buttonEl.style.display =\n",
              "        google.colab.kernel.accessAllowed ? 'block' : 'none';\n",
              "\n",
              "      async function convertToInteractive(key) {\n",
              "        const element = document.querySelector('#df-39ea7c74-ea11-4769-b2ea-b653e3e9393b');\n",
              "        const dataTable =\n",
              "          await google.colab.kernel.invokeFunction('convertToInteractive',\n",
              "                                                    [key], {});\n",
              "        if (!dataTable) return;\n",
              "\n",
              "        const docLinkHtml = 'Like what you see? Visit the ' +\n",
              "          '<a target=\"_blank\" href=https://colab.research.google.com/notebooks/data_table.ipynb>data table notebook</a>'\n",
              "          + ' to learn more about interactive tables.';\n",
              "        element.innerHTML = '';\n",
              "        dataTable['output_type'] = 'display_data';\n",
              "        await google.colab.output.renderOutput(dataTable, element);\n",
              "        const docLink = document.createElement('div');\n",
              "        docLink.innerHTML = docLinkHtml;\n",
              "        element.appendChild(docLink);\n",
              "      }\n",
              "    </script>\n",
              "  </div>\n",
              "\n",
              "\n",
              "<div id=\"df-6e56b362-5a2a-428b-83fe-6cd93f9dd0e3\">\n",
              "  <button class=\"colab-df-quickchart\" onclick=\"quickchart('df-6e56b362-5a2a-428b-83fe-6cd93f9dd0e3')\"\n",
              "            title=\"Suggest charts\"\n",
              "            style=\"display:none;\">\n",
              "\n",
              "<svg xmlns=\"http://www.w3.org/2000/svg\" height=\"24px\"viewBox=\"0 0 24 24\"\n",
              "     width=\"24px\">\n",
              "    <g>\n",
              "        <path d=\"M19 3H5c-1.1 0-2 .9-2 2v14c0 1.1.9 2 2 2h14c1.1 0 2-.9 2-2V5c0-1.1-.9-2-2-2zM9 17H7v-7h2v7zm4 0h-2V7h2v10zm4 0h-2v-4h2v4z\"/>\n",
              "    </g>\n",
              "</svg>\n",
              "  </button>\n",
              "\n",
              "<style>\n",
              "  .colab-df-quickchart {\n",
              "      --bg-color: #E8F0FE;\n",
              "      --fill-color: #1967D2;\n",
              "      --hover-bg-color: #E2EBFA;\n",
              "      --hover-fill-color: #174EA6;\n",
              "      --disabled-fill-color: #AAA;\n",
              "      --disabled-bg-color: #DDD;\n",
              "  }\n",
              "\n",
              "  [theme=dark] .colab-df-quickchart {\n",
              "      --bg-color: #3B4455;\n",
              "      --fill-color: #D2E3FC;\n",
              "      --hover-bg-color: #434B5C;\n",
              "      --hover-fill-color: #FFFFFF;\n",
              "      --disabled-bg-color: #3B4455;\n",
              "      --disabled-fill-color: #666;\n",
              "  }\n",
              "\n",
              "  .colab-df-quickchart {\n",
              "    background-color: var(--bg-color);\n",
              "    border: none;\n",
              "    border-radius: 50%;\n",
              "    cursor: pointer;\n",
              "    display: none;\n",
              "    fill: var(--fill-color);\n",
              "    height: 32px;\n",
              "    padding: 0;\n",
              "    width: 32px;\n",
              "  }\n",
              "\n",
              "  .colab-df-quickchart:hover {\n",
              "    background-color: var(--hover-bg-color);\n",
              "    box-shadow: 0 1px 2px rgba(60, 64, 67, 0.3), 0 1px 3px 1px rgba(60, 64, 67, 0.15);\n",
              "    fill: var(--button-hover-fill-color);\n",
              "  }\n",
              "\n",
              "  .colab-df-quickchart-complete:disabled,\n",
              "  .colab-df-quickchart-complete:disabled:hover {\n",
              "    background-color: var(--disabled-bg-color);\n",
              "    fill: var(--disabled-fill-color);\n",
              "    box-shadow: none;\n",
              "  }\n",
              "\n",
              "  .colab-df-spinner {\n",
              "    border: 2px solid var(--fill-color);\n",
              "    border-color: transparent;\n",
              "    border-bottom-color: var(--fill-color);\n",
              "    animation:\n",
              "      spin 1s steps(1) infinite;\n",
              "  }\n",
              "\n",
              "  @keyframes spin {\n",
              "    0% {\n",
              "      border-color: transparent;\n",
              "      border-bottom-color: var(--fill-color);\n",
              "      border-left-color: var(--fill-color);\n",
              "    }\n",
              "    20% {\n",
              "      border-color: transparent;\n",
              "      border-left-color: var(--fill-color);\n",
              "      border-top-color: var(--fill-color);\n",
              "    }\n",
              "    30% {\n",
              "      border-color: transparent;\n",
              "      border-left-color: var(--fill-color);\n",
              "      border-top-color: var(--fill-color);\n",
              "      border-right-color: var(--fill-color);\n",
              "    }\n",
              "    40% {\n",
              "      border-color: transparent;\n",
              "      border-right-color: var(--fill-color);\n",
              "      border-top-color: var(--fill-color);\n",
              "    }\n",
              "    60% {\n",
              "      border-color: transparent;\n",
              "      border-right-color: var(--fill-color);\n",
              "    }\n",
              "    80% {\n",
              "      border-color: transparent;\n",
              "      border-right-color: var(--fill-color);\n",
              "      border-bottom-color: var(--fill-color);\n",
              "    }\n",
              "    90% {\n",
              "      border-color: transparent;\n",
              "      border-bottom-color: var(--fill-color);\n",
              "    }\n",
              "  }\n",
              "</style>\n",
              "\n",
              "  <script>\n",
              "    async function quickchart(key) {\n",
              "      const quickchartButtonEl =\n",
              "        document.querySelector('#' + key + ' button');\n",
              "      quickchartButtonEl.disabled = true;  // To prevent multiple clicks.\n",
              "      quickchartButtonEl.classList.add('colab-df-spinner');\n",
              "      try {\n",
              "        const charts = await google.colab.kernel.invokeFunction(\n",
              "            'suggestCharts', [key], {});\n",
              "      } catch (error) {\n",
              "        console.error('Error during call to suggestCharts:', error);\n",
              "      }\n",
              "      quickchartButtonEl.classList.remove('colab-df-spinner');\n",
              "      quickchartButtonEl.classList.add('colab-df-quickchart-complete');\n",
              "    }\n",
              "    (() => {\n",
              "      let quickchartButtonEl =\n",
              "        document.querySelector('#df-6e56b362-5a2a-428b-83fe-6cd93f9dd0e3 button');\n",
              "      quickchartButtonEl.style.display =\n",
              "        google.colab.kernel.accessAllowed ? 'block' : 'none';\n",
              "    })();\n",
              "  </script>\n",
              "</div>\n",
              "    </div>\n",
              "  </div>\n"
            ]
          },
          "metadata": {},
          "execution_count": 8
        }
      ]
    },
    {
      "cell_type": "code",
      "source": [
        "df['URL'].to_csv(\"/content/htu_urls.csv\")"
      ],
      "metadata": {
        "id": "aR4wzHapUwQF"
      },
      "execution_count": null,
      "outputs": []
    },
    {
      "cell_type": "code",
      "source": [
        "!mkdir archivebox"
      ],
      "metadata": {
        "id": "QmTGpqC5Wqyy"
      },
      "execution_count": null,
      "outputs": []
    },
    {
      "cell_type": "markdown",
      "source": [
        "# At this point you need to enter a password for the user"
      ],
      "metadata": {
        "id": "6ze3hzU6lrmG"
      }
    },
    {
      "cell_type": "code",
      "source": [
        "!sudo adduser myuser"
      ],
      "metadata": {
        "colab": {
          "base_uri": "https://localhost:8080/"
        },
        "id": "2UOiIOPKWvs1",
        "outputId": "9ff2bdd9-9f4f-418e-97f4-03a23f5a5c25"
      },
      "execution_count": null,
      "outputs": [
        {
          "output_type": "stream",
          "name": "stdout",
          "text": [
            "Adding user `myuser' ...\n",
            "Adding new group `myuser' (1000) ...\n",
            "Adding new user `myuser' (1000) with group `myuser' ...\n",
            "Creating home directory `/home/myuser' ...\n",
            "Copying files from `/etc/skel' ...\n",
            "New password: \n",
            "Retype new password: \n",
            "passwd: password updated successfully\n",
            "Changing the user information for myuser\n",
            "Enter the new value, or press ENTER for the default\n",
            "\tFull Name []: myuser\n",
            "\tRoom Number []: \n",
            "\tWork Phone []: \n",
            "\tHome Phone []: \n",
            "\tOther []: \n",
            "Is the information correct? [Y/n] y\n"
          ]
        }
      ]
    },
    {
      "cell_type": "code",
      "source": [
        "!sudo chown -R myuser:myuser /content/archivebox\n",
        "!sudo chown -R myuser:myuser /var/log"
      ],
      "metadata": {
        "id": "GjeZufuaZVgm"
      },
      "execution_count": null,
      "outputs": []
    },
    {
      "cell_type": "code",
      "source": [
        "!sudo apt-get update\n",
        "!sudo apt-get install -y ca-certificates curl gnupg\n",
        "!sudo mkdir -p /etc/apt/keyrings\n",
        "!curl -fsSL https://deb.nodesource.com/gpgkey/nodesource-repo.gpg.key | sudo gpg --dearmor -o /etc/apt/keyrings/nodesource.gpg"
      ],
      "metadata": {
        "colab": {
          "base_uri": "https://localhost:8080/"
        },
        "id": "zddLd_Hfac4M",
        "outputId": "9d692728-1e4f-4548-f331-95626578338f"
      },
      "execution_count": null,
      "outputs": [
        {
          "output_type": "stream",
          "name": "stdout",
          "text": [
            "\r0% [Working]\r            \rGet:1 http://security.ubuntu.com/ubuntu jammy-security InRelease [110 kB]\n",
            "\r0% [Waiting for headers] [1 InRelease 2,588 B/110 kB 2%] [Connected to cloud.r-\r                                                                               \rHit:2 http://archive.ubuntu.com/ubuntu jammy InRelease\n",
            "\r0% [Waiting for headers] [1 InRelease 43.1 kB/110 kB 39%] [Waiting for headers]\r                                                                               \rGet:3 https://cloud.r-project.org/bin/linux/ubuntu jammy-cran40/ InRelease [3,626 B]\n",
            "\r0% [Waiting for headers] [1 InRelease 43.1 kB/110 kB 39%] [Connecting to ppa.la\r                                                                               \rGet:4 http://archive.ubuntu.com/ubuntu jammy-updates InRelease [119 kB]\n",
            "Hit:5 https://developer.download.nvidia.com/compute/cuda/repos/ubuntu2204/x86_64  InRelease\n",
            "Get:6 http://archive.ubuntu.com/ubuntu jammy-backports InRelease [109 kB]\n",
            "Get:7 https://ppa.launchpadcontent.net/c2d4u.team/c2d4u4.0+/ubuntu jammy InRelease [18.1 kB]\n",
            "Get:8 https://cloud.r-project.org/bin/linux/ubuntu jammy-cran40/ Packages [46.8 kB]\n",
            "Hit:9 https://ppa.launchpadcontent.net/deadsnakes/ppa/ubuntu jammy InRelease\n",
            "Hit:10 https://ppa.launchpadcontent.net/graphics-drivers/ppa/ubuntu jammy InRelease\n",
            "Hit:11 https://ppa.launchpadcontent.net/ubuntugis/ppa/ubuntu jammy InRelease\n",
            "Get:12 http://security.ubuntu.com/ubuntu jammy-security/main amd64 Packages [1,194 kB]\n",
            "Get:13 http://archive.ubuntu.com/ubuntu jammy-updates/restricted amd64 Packages [1,420 kB]\n",
            "Get:14 http://archive.ubuntu.com/ubuntu jammy-updates/main amd64 Packages [1,467 kB]\n",
            "Get:15 https://ppa.launchpadcontent.net/c2d4u.team/c2d4u4.0+/ubuntu jammy/main Sources [2,241 kB]\n",
            "Get:16 https://ppa.launchpadcontent.net/c2d4u.team/c2d4u4.0+/ubuntu jammy/main amd64 Packages [1,150 kB]\n",
            "Fetched 7,878 kB in 4s (2,037 kB/s)\n",
            "Reading package lists... Done\n",
            "Reading package lists... Done\n",
            "Building dependency tree... Done\n",
            "Reading state information... Done\n",
            "ca-certificates is already the newest version (20230311ubuntu0.22.04.1).\n",
            "curl is already the newest version (7.81.0-1ubuntu1.14).\n",
            "gnupg is already the newest version (2.2.27-3ubuntu2.1).\n",
            "gnupg set to manually installed.\n",
            "0 upgraded, 0 newly installed, 0 to remove and 8 not upgraded.\n"
          ]
        }
      ]
    },
    {
      "cell_type": "code",
      "source": [
        "!NODE_MAJOR=20\n",
        "!echo \"deb [signed-by=/etc/apt/keyrings/nodesource.gpg] https://deb.nodesource.com/node_$NODE_MAJOR.x nodistro main\" | sudo tee /etc/apt/sources.list.d/nodesource.list"
      ],
      "metadata": {
        "colab": {
          "base_uri": "https://localhost:8080/"
        },
        "id": "tjhvib2whO7y",
        "outputId": "52301268-b6b2-432d-94db-abd3486d6404"
      },
      "execution_count": null,
      "outputs": [
        {
          "output_type": "stream",
          "name": "stdout",
          "text": [
            "deb [signed-by=/etc/apt/keyrings/nodesource.gpg] https://deb.nodesource.com/node_.x nodistro main\n"
          ]
        }
      ]
    },
    {
      "cell_type": "code",
      "source": [
        "!sudo apt-get update\n",
        "!sudo apt-get install nodejs -y"
      ],
      "metadata": {
        "colab": {
          "base_uri": "https://localhost:8080/"
        },
        "id": "p5v-Onz8hSx1",
        "outputId": "e0c5f5f8-88f1-40d4-c8ff-2935acbcf0fa"
      },
      "execution_count": null,
      "outputs": [
        {
          "output_type": "stream",
          "name": "stdout",
          "text": [
            "\r0% [Working]\r            \rHit:1 http://archive.ubuntu.com/ubuntu jammy InRelease\n",
            "\r0% [Waiting for headers] [Connecting to security.ubuntu.com (185.125.190.36)] [\r                                                                               \rHit:2 https://cloud.r-project.org/bin/linux/ubuntu jammy-cran40/ InRelease\n",
            "\r0% [Waiting for headers] [Connecting to security.ubuntu.com (185.125.190.36)] [\r                                                                               \rHit:3 http://archive.ubuntu.com/ubuntu jammy-updates InRelease\n",
            "\r0% [Waiting for headers] [Connecting to security.ubuntu.com (185.125.190.36)] [\r                                                                               \rHit:4 https://developer.download.nvidia.com/compute/cuda/repos/ubuntu2204/x86_64  InRelease\n",
            "\r0% [Waiting for headers] [Connecting to security.ubuntu.com (185.125.190.36)] [\r                                                                               \rHit:5 http://archive.ubuntu.com/ubuntu jammy-backports InRelease\n",
            "\r0% [Connecting to security.ubuntu.com (185.125.190.36)] [Connected to ppa.launc\r0% [Waiting for headers] [Connected to ppa.launchpadcontent.net (185.125.190.80\r                                                                               \rIgn:6 https://deb.nodesource.com/node_.x nodistro InRelease\n",
            "Hit:7 http://security.ubuntu.com/ubuntu jammy-security InRelease\n",
            "Err:8 https://deb.nodesource.com/node_.x nodistro Release\n",
            "  404  Not Found [IP: 104.22.4.26 443]\n",
            "Hit:9 https://ppa.launchpadcontent.net/c2d4u.team/c2d4u4.0+/ubuntu jammy InRelease\n",
            "Hit:10 https://ppa.launchpadcontent.net/deadsnakes/ppa/ubuntu jammy InRelease\n",
            "Hit:11 https://ppa.launchpadcontent.net/graphics-drivers/ppa/ubuntu jammy InRelease\n",
            "Hit:12 https://ppa.launchpadcontent.net/ubuntugis/ppa/ubuntu jammy InRelease\n",
            "Reading package lists... Done\n",
            "E: The repository 'https://deb.nodesource.com/node_.x nodistro Release' does not have a Release file.\n",
            "N: Updating from such a repository can't be done securely, and is therefore disabled by default.\n",
            "N: See apt-secure(8) manpage for repository creation and user configuration details.\n",
            "Reading package lists... Done\n",
            "Building dependency tree... Done\n",
            "Reading state information... Done\n",
            "The following additional packages will be installed:\n",
            "  libc-ares2 libnode72 nodejs-doc\n",
            "Suggested packages:\n",
            "  npm\n",
            "The following NEW packages will be installed:\n",
            "  libc-ares2 libnode72 nodejs nodejs-doc\n",
            "0 upgraded, 4 newly installed, 0 to remove and 8 not upgraded.\n",
            "Need to get 13.4 MB of archives.\n",
            "After this operation, 51.8 MB of additional disk space will be used.\n",
            "Get:1 http://archive.ubuntu.com/ubuntu jammy-updates/main amd64 libc-ares2 amd64 1.18.1-1ubuntu0.22.04.2 [45.0 kB]\n",
            "Get:2 http://archive.ubuntu.com/ubuntu jammy-updates/universe amd64 libnode72 amd64 12.22.9~dfsg-1ubuntu3.1 [10.8 MB]\n",
            "Get:3 http://archive.ubuntu.com/ubuntu jammy-updates/universe amd64 nodejs-doc all 12.22.9~dfsg-1ubuntu3.1 [2,410 kB]\n",
            "Get:4 http://archive.ubuntu.com/ubuntu jammy-updates/universe amd64 nodejs amd64 12.22.9~dfsg-1ubuntu3.1 [122 kB]\n",
            "Fetched 13.4 MB in 1s (21.8 MB/s)\n",
            "debconf: unable to initialize frontend: Dialog\n",
            "debconf: (No usable dialog-like program is installed, so the dialog based frontend cannot be used. at /usr/share/perl5/Debconf/FrontEnd/Dialog.pm line 78, <> line 4.)\n",
            "debconf: falling back to frontend: Readline\n",
            "debconf: unable to initialize frontend: Readline\n",
            "debconf: (This frontend requires a controlling tty.)\n",
            "debconf: falling back to frontend: Teletype\n",
            "dpkg-preconfigure: unable to re-open stdin: \n",
            "Selecting previously unselected package libc-ares2:amd64.\n",
            "(Reading database ... 120872 files and directories currently installed.)\n",
            "Preparing to unpack .../libc-ares2_1.18.1-1ubuntu0.22.04.2_amd64.deb ...\n",
            "Unpacking libc-ares2:amd64 (1.18.1-1ubuntu0.22.04.2) ...\n",
            "Selecting previously unselected package libnode72:amd64.\n",
            "Preparing to unpack .../libnode72_12.22.9~dfsg-1ubuntu3.1_amd64.deb ...\n",
            "Unpacking libnode72:amd64 (12.22.9~dfsg-1ubuntu3.1) ...\n",
            "Selecting previously unselected package nodejs-doc.\n",
            "Preparing to unpack .../nodejs-doc_12.22.9~dfsg-1ubuntu3.1_all.deb ...\n",
            "Unpacking nodejs-doc (12.22.9~dfsg-1ubuntu3.1) ...\n",
            "Selecting previously unselected package nodejs.\n",
            "Preparing to unpack .../nodejs_12.22.9~dfsg-1ubuntu3.1_amd64.deb ...\n",
            "Unpacking nodejs (12.22.9~dfsg-1ubuntu3.1) ...\n",
            "Setting up libc-ares2:amd64 (1.18.1-1ubuntu0.22.04.2) ...\n",
            "Setting up libnode72:amd64 (12.22.9~dfsg-1ubuntu3.1) ...\n",
            "Setting up nodejs-doc (12.22.9~dfsg-1ubuntu3.1) ...\n",
            "Setting up nodejs (12.22.9~dfsg-1ubuntu3.1) ...\n",
            "update-alternatives: using /usr/bin/nodejs to provide /usr/bin/js (js) in auto mode\n",
            "Processing triggers for libc-bin (2.35-0ubuntu3.4) ...\n",
            "/sbin/ldconfig.real: /usr/local/lib/libtbbmalloc_proxy.so.2 is not a symbolic link\n",
            "\n",
            "/sbin/ldconfig.real: /usr/local/lib/libtbb.so.12 is not a symbolic link\n",
            "\n",
            "/sbin/ldconfig.real: /usr/local/lib/libtbbbind_2_0.so.3 is not a symbolic link\n",
            "\n",
            "/sbin/ldconfig.real: /usr/local/lib/libtbbbind_2_5.so.3 is not a symbolic link\n",
            "\n",
            "/sbin/ldconfig.real: /usr/local/lib/libtbbbind.so.3 is not a symbolic link\n",
            "\n",
            "/sbin/ldconfig.real: /usr/local/lib/libtbbmalloc.so.2 is not a symbolic link\n",
            "\n",
            "Processing triggers for man-db (2.10.2-1) ...\n"
          ]
        }
      ]
    },
    {
      "cell_type": "code",
      "source": [
        "!su - myuser -c \"cat ~/.bashrc\""
      ],
      "metadata": {
        "colab": {
          "base_uri": "https://localhost:8080/"
        },
        "id": "2xOYOjVbds26",
        "outputId": "081df109-2980-4c07-be61-23039859b338"
      },
      "execution_count": null,
      "outputs": [
        {
          "output_type": "stream",
          "name": "stdout",
          "text": [
            "# ~/.bashrc: executed by bash(1) for non-login shells.\n",
            "# see /usr/share/doc/bash/examples/startup-files (in the package bash-doc)\n",
            "# for examples\n",
            "\n",
            "# If not running interactively, don't do anything\n",
            "case $- in\n",
            "    *i*) ;;\n",
            "      *) return;;\n",
            "esac\n",
            "\n",
            "# don't put duplicate lines or lines starting with space in the history.\n",
            "# See bash(1) for more options\n",
            "HISTCONTROL=ignoreboth\n",
            "\n",
            "# append to the history file, don't overwrite it\n",
            "shopt -s histappend\n",
            "\n",
            "# for setting history length see HISTSIZE and HISTFILESIZE in bash(1)\n",
            "HISTSIZE=1000\n",
            "HISTFILESIZE=2000\n",
            "\n",
            "# check the window size after each command and, if necessary,\n",
            "# update the values of LINES and COLUMNS.\n",
            "shopt -s checkwinsize\n",
            "\n",
            "# If set, the pattern \"**\" used in a pathname expansion context will\n",
            "# match all files and zero or more directories and subdirectories.\n",
            "#shopt -s globstar\n",
            "\n",
            "# make less more friendly for non-text input files, see lesspipe(1)\n",
            "[ -x /usr/bin/lesspipe ] && eval \"$(SHELL=/bin/sh lesspipe)\"\n",
            "\n",
            "# set variable identifying the chroot you work in (used in the prompt below)\n",
            "if [ -z \"${debian_chroot:-}\" ] && [ -r /etc/debian_chroot ]; then\n",
            "    debian_chroot=$(cat /etc/debian_chroot)\n",
            "fi\n",
            "\n",
            "# set a fancy prompt (non-color, unless we know we \"want\" color)\n",
            "case \"$TERM\" in\n",
            "    xterm-color|*-256color) color_prompt=yes;;\n",
            "esac\n",
            "\n",
            "# uncomment for a colored prompt, if the terminal has the capability; turned\n",
            "# off by default to not distract the user: the focus in a terminal window\n",
            "# should be on the output of commands, not on the prompt\n",
            "#force_color_prompt=yes\n",
            "\n",
            "if [ -n \"$force_color_prompt\" ]; then\n",
            "    if [ -x /usr/bin/tput ] && tput setaf 1 >&/dev/null; then\n",
            "\t# We have color support; assume it's compliant with Ecma-48\n",
            "\t# (ISO/IEC-6429). (Lack of such support is extremely rare, and such\n",
            "\t# a case would tend to support setf rather than setaf.)\n",
            "\tcolor_prompt=yes\n",
            "    else\n",
            "\tcolor_prompt=\n",
            "    fi\n",
            "fi\n",
            "\n",
            "if [ \"$color_prompt\" = yes ]; then\n",
            "    PS1='${debian_chroot:+($debian_chroot)}\\[\\033[01;32m\\]\\u@\\h\\[\\033[00m\\]:\\[\\033[01;34m\\]\\w\\[\\033[00m\\]\\$ '\n",
            "else\n",
            "    PS1='${debian_chroot:+($debian_chroot)}\\u@\\h:\\w\\$ '\n",
            "fi\n",
            "unset color_prompt force_color_prompt\n",
            "\n",
            "# If this is an xterm set the title to user@host:dir\n",
            "case \"$TERM\" in\n",
            "xterm*|rxvt*)\n",
            "    PS1=\"\\[\\e]0;${debian_chroot:+($debian_chroot)}\\u@\\h: \\w\\a\\]$PS1\"\n",
            "    ;;\n",
            "*)\n",
            "    ;;\n",
            "esac\n",
            "\n",
            "# enable color support of ls and also add handy aliases\n",
            "if [ -x /usr/bin/dircolors ]; then\n",
            "    test -r ~/.dircolors && eval \"$(dircolors -b ~/.dircolors)\" || eval \"$(dircolors -b)\"\n",
            "    alias ls='ls --color=auto'\n",
            "    #alias dir='dir --color=auto'\n",
            "    #alias vdir='vdir --color=auto'\n",
            "\n",
            "    alias grep='grep --color=auto'\n",
            "    alias fgrep='fgrep --color=auto'\n",
            "    alias egrep='egrep --color=auto'\n",
            "fi\n",
            "\n",
            "# colored GCC warnings and errors\n",
            "#export GCC_COLORS='error=01;31:warning=01;35:note=01;36:caret=01;32:locus=01:quote=01'\n",
            "\n",
            "# some more ls aliases\n",
            "alias ll='ls -alF'\n",
            "alias la='ls -A'\n",
            "alias l='ls -CF'\n",
            "\n",
            "# Add an \"alert\" alias for long running commands.  Use like so:\n",
            "#   sleep 10; alert\n",
            "alias alert='notify-send --urgency=low -i \"$([ $? = 0 ] && echo terminal || echo error)\" \"$(history|tail -n1|sed -e '\\''s/^\\s*[0-9]\\+\\s*//;s/[;&|]\\s*alert$//'\\'')\"'\n",
            "\n",
            "# Alias definitions.\n",
            "# You may want to put all your additions into a separate file like\n",
            "# ~/.bash_aliases, instead of adding them here directly.\n",
            "# See /usr/share/doc/bash-doc/examples in the bash-doc package.\n",
            "\n",
            "if [ -f ~/.bash_aliases ]; then\n",
            "    . ~/.bash_aliases\n",
            "fi\n",
            "\n",
            "# enable programmable completion features (you don't need to enable\n",
            "# this, if it's already enabled in /etc/bash.bashrc and /etc/profile\n",
            "# sources /etc/bash.bashrc).\n",
            "if ! shopt -oq posix; then\n",
            "  if [ -f /usr/share/bash-completion/bash_completion ]; then\n",
            "    . /usr/share/bash-completion/bash_completion\n",
            "  elif [ -f /etc/bash_completion ]; then\n",
            "    . /etc/bash_completion\n",
            "  fi\n",
            "fi\n"
          ]
        }
      ]
    },
    {
      "cell_type": "code",
      "source": [
        "!echo \"export PATH=/tools/node/bin:$PATH\" | su - myuser -c \"tee -a ~/.profile\"\n",
        "!su - myuser -c \"source ~/.profile && npm -v\""
      ],
      "metadata": {
        "colab": {
          "base_uri": "https://localhost:8080/"
        },
        "id": "Pq90x6fAmR1G",
        "outputId": "fce8149b-c694-4e8c-8ab5-30622622eb37"
      },
      "execution_count": null,
      "outputs": [
        {
          "output_type": "stream",
          "name": "stdout",
          "text": [
            "export PATH=/tools/node/bin:/opt/bin:/usr/local/nvidia/bin:/usr/local/cuda/bin:/usr/local/sbin:/usr/local/bin:/usr/sbin:/usr/bin:/sbin:/bin:/tools/node/bin:/tools/google-cloud-sdk/bin\n",
            "6.14.8\n"
          ]
        }
      ]
    },
    {
      "cell_type": "code",
      "source": [
        "!su - myuser -c \"source ~/.bashrc\""
      ],
      "metadata": {
        "id": "Og1u-4bAeF9F"
      },
      "execution_count": null,
      "outputs": []
    },
    {
      "cell_type": "code",
      "source": [
        "!su - myuser -c \"npm -v\""
      ],
      "metadata": {
        "colab": {
          "base_uri": "https://localhost:8080/"
        },
        "id": "zWIy4X0FePyE",
        "outputId": "3bdb0f3b-7d81-459b-aed2-cdcd20a942d8"
      },
      "execution_count": null,
      "outputs": [
        {
          "output_type": "stream",
          "name": "stdout",
          "text": [
            "6.14.8\n"
          ]
        }
      ]
    },
    {
      "cell_type": "code",
      "source": [
        "!su - myuser -c \"cd /content/archivebox && archivebox init --setup\""
      ],
      "metadata": {
        "colab": {
          "base_uri": "https://localhost:8080/"
        },
        "id": "sPINa4ZcTj0N",
        "outputId": "dce5e55d-84bb-48e5-e60c-a45494ef1d24"
      },
      "execution_count": null,
      "outputs": [
        {
          "output_type": "stream",
          "name": "stdout",
          "text": [
            "\u001b[01;30m[i] [2023-11-13 21:32:14] ArchiveBox v0.7.1: archivebox init --setup\u001b[00;00m\n",
            "\u001b[01;30m    > /content/archivebox\u001b[00;00m\n",
            "\n",
            "\u001b[01;32m[+] Initializing a new ArchiveBox v0.7.1 collection...\u001b[00;00m\n",
            "\u001b[01;32m----------------------------------------------------------------------\u001b[00;00m\n",
            "\n",
            "\u001b[01;32m[+] Building archive folder structure...\u001b[00;00m\n",
            "    + ./archive, ./sources, ./logs...\n",
            "    + ./ArchiveBox.conf...\n",
            "\n",
            "\u001b[01;32m[+] Building main SQL index and running initial migrations...\u001b[00;00m\n",
            "    \u001b[36;1mOperations to perform:\u001b[0m\n",
            "    \u001b[1m  Apply all migrations: \u001b[0madmin, auth, contenttypes, core, sessions\n",
            "    \u001b[36;1mRunning migrations:\u001b[0m\n",
            "    Applying contenttypes.0001_initial...\u001b[32;1m OK\u001b[0m\n",
            "    Applying auth.0001_initial...\u001b[32;1m OK\u001b[0m\n",
            "    Applying admin.0001_initial...\u001b[32;1m OK\u001b[0m\n",
            "    Applying admin.0002_logentry_remove_auto_add...\u001b[32;1m OK\u001b[0m\n",
            "    Applying admin.0003_logentry_add_action_flag_choices...\u001b[32;1m OK\u001b[0m\n",
            "    Applying contenttypes.0002_remove_content_type_name...\u001b[32;1m OK\u001b[0m\n",
            "    Applying auth.0002_alter_permission_name_max_length...\u001b[32;1m OK\u001b[0m\n",
            "    Applying auth.0003_alter_user_email_max_length...\u001b[32;1m OK\u001b[0m\n",
            "    Applying auth.0004_alter_user_username_opts...\u001b[32;1m OK\u001b[0m\n",
            "    Applying auth.0005_alter_user_last_login_null...\u001b[32;1m OK\u001b[0m\n",
            "    Applying auth.0006_require_contenttypes_0002...\u001b[32;1m OK\u001b[0m\n",
            "    Applying auth.0007_alter_validators_add_error_messages...\u001b[32;1m OK\u001b[0m\n",
            "    Applying auth.0008_alter_user_username_max_length...\u001b[32;1m OK\u001b[0m\n",
            "    Applying auth.0009_alter_user_last_name_max_length...\u001b[32;1m OK\u001b[0m\n",
            "    Applying auth.0010_alter_group_name_max_length...\u001b[32;1m OK\u001b[0m\n",
            "    Applying auth.0011_update_proxy_permissions...\u001b[32;1m OK\u001b[0m\n",
            "    Applying auth.0012_alter_user_first_name_max_length...\u001b[32;1m OK\u001b[0m\n",
            "    Applying core.0001_initial...\u001b[32;1m OK\u001b[0m\n",
            "    Applying core.0002_auto_20200625_1521...\u001b[32;1m OK\u001b[0m\n",
            "    Applying core.0003_auto_20200630_1034...\u001b[32;1m OK\u001b[0m\n",
            "    Applying core.0004_auto_20200713_1552...\u001b[32;1m OK\u001b[0m\n",
            "    Applying core.0005_auto_20200728_0326...\u001b[32;1m OK\u001b[0m\n",
            "    Applying core.0006_auto_20201012_1520...\u001b[32;1m OK\u001b[0m\n",
            "    Applying core.0007_archiveresult...\u001b[32;1m OK\u001b[0m\n",
            "    Applying core.0008_auto_20210105_1421...\u001b[32;1m OK\u001b[0m\n",
            "    Applying core.0009_auto_20210216_1038...\u001b[32;1m OK\u001b[0m\n",
            "    Applying core.0010_auto_20210216_1055...\u001b[32;1m OK\u001b[0m\n",
            "    Applying core.0011_auto_20210216_1331...\u001b[32;1m OK\u001b[0m\n",
            "    Applying core.0012_auto_20210216_1425...\u001b[32;1m OK\u001b[0m\n",
            "    Applying core.0013_auto_20210218_0729...\u001b[32;1m OK\u001b[0m\n",
            "    Applying core.0014_auto_20210218_0729...\u001b[32;1m OK\u001b[0m\n",
            "    Applying core.0015_auto_20210218_0730...\u001b[32;1m OK\u001b[0m\n",
            "    Applying core.0016_auto_20210218_1204...\u001b[32;1m OK\u001b[0m\n",
            "    Applying core.0017_auto_20210219_0211...\u001b[32;1m OK\u001b[0m\n",
            "    Applying core.0018_auto_20210327_0952...\u001b[32;1m OK\u001b[0m\n",
            "    Applying core.0019_auto_20210401_0654...\u001b[32;1m OK\u001b[0m\n",
            "    Applying core.0020_auto_20210410_1031...\u001b[32;1m OK\u001b[0m\n",
            "    Applying core.0021_auto_20220914_0934...\u001b[32;1m OK\u001b[0m\n",
            "    Applying sessions.0001_initial...\u001b[32;1m OK\u001b[0m\n",
            "\n",
            "    √ ./index.sqlite3\n",
            "\n",
            "\u001b[01;32m[*] Checking links from indexes and archive folders (safe to Ctrl+C)...\u001b[00;00m\n",
            "\n",
            "\u001b[01;30m[*] [2023-11-13 21:32:16] Writing 0 links to main index...\u001b[00;00m\n",
            "    √ ./index.sqlite3\n",
            "\n",
            "\u001b[01;32m----------------------------------------------------------------------\u001b[00;00m\n",
            "\u001b[01;32m[√] Done. A new ArchiveBox collection was initialized (0 links).\u001b[00;00m\n",
            "\u001b[01;32m\n",
            "[+] Creating new admin user for the Web UI...\u001b[00;00m\n",
            "Username (leave blank to use 'myuser'): \n",
            "Email address: \n",
            "Password: \n",
            "Password (again): \n",
            "\u001b[31;1mError: Blank passwords aren't allowed.\n",
            "\u001b[0mPassword: \n",
            "Password (again): \n",
            "\u001b[31;1mThis password is too common.\n",
            "\u001b[0mBypass password validation and create user anyway? [y/N]: y\n",
            "Superuser created successfully.\n",
            "\u001b[01;32m\n",
            "[+] Installing enabled ArchiveBox dependencies automatically...\u001b[00;00m\n",
            "\n",
            "    Installing YOUTUBEDL_BINARY automatically using pip...\n",
            "2023.10.13 is already installed yt-dlp\n",
            "\n",
            "    Installing CHROME_BINARY automatically using playwright...\n",
            "Defaulting to user installation because normal site-packages is not writeable\n",
            "Collecting playwright\n",
            "  Downloading playwright-1.39.0-py3-none-manylinux1_x86_64.whl (35.5 MB)\n",
            "\u001b[2K     \u001b[90m━━━━━━━━━━━━━━━━━━━━━━━━━━━━━━━━━━━━━━━\u001b[0m \u001b[32m35.5/35.5 MB\u001b[0m \u001b[31m129.5 MB/s\u001b[0m eta \u001b[36m0:00:00\u001b[0m\n",
            "\u001b[?25hCollecting greenlet==3.0.0 (from playwright)\n",
            "  Downloading greenlet-3.0.0-cp310-cp310-manylinux_2_24_x86_64.manylinux_2_28_x86_64.whl (612 kB)\n",
            "\u001b[2K     \u001b[90m━━━━━━━━━━━━━━━━━━━━━━━━━━━━━━━━━━━━━\u001b[0m \u001b[32m612.9/612.9 kB\u001b[0m \u001b[31m294.4 MB/s\u001b[0m eta \u001b[36m0:00:00\u001b[0m\n",
            "\u001b[?25hCollecting pyee==11.0.1 (from playwright)\n",
            "  Downloading pyee-11.0.1-py3-none-any.whl (15 kB)\n",
            "Requirement already satisfied: typing-extensions in /usr/local/lib/python3.10/dist-packages (from pyee==11.0.1->playwright) (4.5.0)\n",
            "Installing collected packages: pyee, greenlet, playwright\n",
            "Successfully installed greenlet-3.0.0 playwright-1.39.0 pyee-11.0.1\n",
            "Downloading Chromium 119.0.6045.9 (playwright build v1084)\u001b[2m from https://playwright.azureedge.net/builds/chromium/1084/chromium-linux.zip\u001b[22m\n",
            "\u001b[1G155.8 Mb [] 0% 0.0s\u001b[0K\u001b[1G155.8 Mb [] 0% 31.7s\u001b[0K\u001b[1G155.8 Mb [] 0% 26.9s\u001b[0K\u001b[1G155.8 Mb [] 0% 37.8s\u001b[0K\u001b[1G155.8 Mb [] 0% 27.5s\u001b[0K\u001b[1G155.8 Mb [] 0% 29.9s\u001b[0K\u001b[1G155.8 Mb [] 0% 27.7s\u001b[0K\u001b[1G155.8 Mb [] 0% 25.4s\u001b[0K\u001b[1G155.8 Mb [] 0% 22.6s\u001b[0K\u001b[1G155.8 Mb [] 0% 20.5s\u001b[0K\u001b[1G155.8 Mb [] 0% 19.9s\u001b[0K\u001b[1G155.8 Mb [] 1% 17.7s\u001b[0K\u001b[1G155.8 Mb [] 1% 15.8s\u001b[0K\u001b[1G155.8 Mb [] 1% 14.5s\u001b[0K\u001b[1G155.8 Mb [] 1% 14.1s\u001b[0K\u001b[1G155.8 Mb [] 2% 12.7s\u001b[0K\u001b[1G155.8 Mb [] 2% 12.3s\u001b[0K\u001b[1G155.8 Mb [] 2% 11.8s\u001b[0K\u001b[1G155.8 Mb [] 2% 11.6s\u001b[0K\u001b[1G155.8 Mb [] 3% 10.8s\u001b[0K\u001b[1G155.8 Mb [] 3% 10.4s\u001b[0K\u001b[1G155.8 Mb [] 4% 9.5s\u001b[0K\u001b[1G155.8 Mb [] 4% 9.7s\u001b[0K\u001b[1G155.8 Mb [] 4% 9.4s\u001b[0K\u001b[1G155.8 Mb [] 5% 8.4s\u001b[0K\u001b[1G155.8 Mb [] 5% 7.7s\u001b[0K\u001b[1G155.8 Mb [] 6% 7.1s\u001b[0K\u001b[1G155.8 Mb [] 7% 6.7s\u001b[0K\u001b[1G155.8 Mb [] 7% 6.3s\u001b[0K\u001b[1G155.8 Mb [] 8% 5.9s\u001b[0K\u001b[1G155.8 Mb [] 9% 5.7s\u001b[0K\u001b[1G155.8 Mb [] 9% 5.4s\u001b[0K\u001b[1G155.8 Mb [] 10% 5.1s\u001b[0K\u001b[1G155.8 Mb [] 11% 4.9s\u001b[0K\u001b[1G155.8 Mb [] 12% 4.6s\u001b[0K\u001b[1G155.8 Mb [] 12% 4.5s\u001b[0K\u001b[1G155.8 Mb [] 13% 4.5s\u001b[0K\u001b[1G155.8 Mb [] 13% 4.6s\u001b[0K\u001b[1G155.8 Mb [] 14% 4.4s\u001b[0K\u001b[1G155.8 Mb [] 15% 4.2s\u001b[0K\u001b[1G155.8 Mb [] 16% 4.0s\u001b[0K\u001b[1G155.8 Mb [] 16% 3.9s\u001b[0K\u001b[1G155.8 Mb [] 17% 3.9s\u001b[0K\u001b[1G155.8 Mb [] 18% 3.7s\u001b[0K\u001b[1G155.8 Mb [] 19% 3.6s\u001b[0K\u001b[1G155.8 Mb [] 20% 3.5s\u001b[0K\u001b[1G155.8 Mb [] 21% 3.5s\u001b[0K\u001b[1G155.8 Mb [] 21% 3.4s\u001b[0K\u001b[1G155.8 Mb [] 22% 3.4s\u001b[0K\u001b[1G155.8 Mb [] 22% 3.5s\u001b[0K\u001b[1G155.8 Mb [] 23% 3.5s\u001b[0K\u001b[1G155.8 Mb [] 23% 3.4s\u001b[0K\u001b[1G155.8 Mb [] 24% 3.3s\u001b[0K\u001b[1G155.8 Mb [] 25% 3.2s\u001b[0K\u001b[1G155.8 Mb [] 26% 3.1s\u001b[0K\u001b[1G155.8 Mb [] 27% 3.0s\u001b[0K\u001b[1G155.8 Mb [] 28% 2.9s\u001b[0K\u001b[1G155.8 Mb [] 29% 2.8s\u001b[0K\u001b[1G155.8 Mb [] 30% 2.7s\u001b[0K\u001b[1G155.8 Mb [] 30% 2.8s\u001b[0K\u001b[1G155.8 Mb [] 31% 2.7s\u001b[0K\u001b[1G155.8 Mb [] 32% 2.6s\u001b[0K\u001b[1G155.8 Mb [] 33% 2.6s\u001b[0K\u001b[1G155.8 Mb [] 33% 2.5s\u001b[0K\u001b[1G155.8 Mb [] 34% 2.5s\u001b[0K\u001b[1G155.8 Mb [] 35% 2.4s\u001b[0K\u001b[1G155.8 Mb [] 36% 2.3s\u001b[0K\u001b[1G155.8 Mb [] 37% 2.3s\u001b[0K\u001b[1G155.8 Mb [] 38% 2.2s\u001b[0K\u001b[1G155.8 Mb [] 39% 2.2s\u001b[0K\u001b[1G155.8 Mb [] 40% 2.1s\u001b[0K\u001b[1G155.8 Mb [] 41% 2.1s\u001b[0K\u001b[1G155.8 Mb [] 42% 2.1s\u001b[0K\u001b[1G155.8 Mb [] 43% 2.0s\u001b[0K\u001b[1G155.8 Mb [] 44% 2.0s\u001b[0K\u001b[1G155.8 Mb [] 45% 1.9s\u001b[0K\u001b[1G155.8 Mb [] 46% 1.9s\u001b[0K\u001b[1G155.8 Mb [] 47% 1.8s\u001b[0K\u001b[1G155.8 Mb [] 48% 1.7s\u001b[0K\u001b[1G155.8 Mb [] 49% 1.7s\u001b[0K\u001b[1G155.8 Mb [] 50% 1.7s\u001b[0K\u001b[1G155.8 Mb [] 52% 1.6s\u001b[0K\u001b[1G155.8 Mb [] 53% 1.5s\u001b[0K\u001b[1G155.8 Mb [] 54% 1.5s\u001b[0K\u001b[1G155.8 Mb [] 55% 1.4s\u001b[0K\u001b[1G155.8 Mb [] 57% 1.4s\u001b[0K\u001b[1G155.8 Mb [] 58% 1.3s\u001b[0K\u001b[1G155.8 Mb [] 59% 1.3s\u001b[0K\u001b[1G155.8 Mb [] 60% 1.2s\u001b[0K\u001b[1G155.8 Mb [] 61% 1.2s\u001b[0K\u001b[1G155.8 Mb [] 62% 1.2s\u001b[0K\u001b[1G155.8 Mb [] 63% 1.1s\u001b[0K\u001b[1G155.8 Mb [] 64% 1.1s\u001b[0K\u001b[1G155.8 Mb [] 65% 1.1s\u001b[0K\u001b[1G155.8 Mb [] 66% 1.0s\u001b[0K\u001b[1G155.8 Mb [] 67% 1.0s\u001b[0K\u001b[1G155.8 Mb [] 68% 0.9s\u001b[0K\u001b[1G155.8 Mb [] 69% 0.9s\u001b[0K\u001b[1G155.8 Mb [] 70% 0.9s\u001b[0K\u001b[1G155.8 Mb [] 71% 0.8s\u001b[0K\u001b[1G155.8 Mb [] 73% 0.8s\u001b[0K\u001b[1G155.8 Mb [] 74% 0.7s\u001b[0K\u001b[1G155.8 Mb [] 75% 0.7s\u001b[0K\u001b[1G155.8 Mb [] 76% 0.7s\u001b[0K\u001b[1G155.8 Mb [] 77% 0.6s\u001b[0K\u001b[1G155.8 Mb [] 78% 0.6s\u001b[0K\u001b[1G155.8 Mb [] 80% 0.5s\u001b[0K\u001b[1G155.8 Mb [] 81% 0.5s\u001b[0K\u001b[1G155.8 Mb [] 83% 0.5s\u001b[0K\u001b[1G155.8 Mb [] 84% 0.4s\u001b[0K\u001b[1G155.8 Mb [] 85% 0.4s\u001b[0K\u001b[1G155.8 Mb [] 87% 0.3s\u001b[0K\u001b[1G155.8 Mb [] 88% 0.3s\u001b[0K\u001b[1G155.8 Mb [] 89% 0.3s\u001b[0K\u001b[1G155.8 Mb [] 90% 0.3s\u001b[0K\u001b[1G155.8 Mb [] 91% 0.2s\u001b[0K\u001b[1G155.8 Mb [] 92% 0.2s\u001b[0K\u001b[1G155.8 Mb [] 93% 0.2s\u001b[0K\u001b[1G155.8 Mb [] 94% 0.2s\u001b[0K\u001b[1G155.8 Mb [] 95% 0.1s\u001b[0K\u001b[1G155.8 Mb [] 96% 0.1s\u001b[0K\u001b[1G155.8 Mb [] 97% 0.1s\u001b[0K\u001b[1G155.8 Mb [] 98% 0.0s\u001b[0K\u001b[1G155.8 Mb [] 100% 0.0s\u001b[0K\n",
            "Chromium 119.0.6045.9 (playwright build v1084) downloaded to /home/myuser/.cache/ms-playwright/chromium-1084\n",
            "Downloading FFMPEG playwright build v1009\u001b[2m from https://playwright.azureedge.net/builds/ffmpeg/1009/ffmpeg-linux.zip\u001b[22m\n",
            "\u001b[1G2.6 Mb [] 0% 0.0s\u001b[0K\u001b[1G2.6 Mb [] 3% 0.8s\u001b[0K\u001b[1G2.6 Mb [] 6% 0.6s\u001b[0K\u001b[1G2.6 Mb [] 6% 0.8s\u001b[0K\u001b[1G2.6 Mb [] 11% 0.6s\u001b[0K\u001b[1G2.6 Mb [] 21% 0.3s\u001b[0K\u001b[1G2.6 Mb [] 31% 0.2s\u001b[0K\u001b[1G2.6 Mb [] 40% 0.2s\u001b[0K\u001b[1G2.6 Mb [] 49% 0.1s\u001b[0K\u001b[1G2.6 Mb [] 58% 0.1s\u001b[0K\u001b[1G2.6 Mb [] 67% 0.1s\u001b[0K\u001b[1G2.6 Mb [] 78% 0.1s\u001b[0K\u001b[1G2.6 Mb [] 81% 0.0s\u001b[0K\u001b[1G2.6 Mb [] 88% 0.0s\u001b[0K\u001b[1G2.6 Mb [] 93% 0.0s\u001b[0K\u001b[1G2.6 Mb [] 100% 0.0s\u001b[0K\n",
            "FFMPEG playwright build v1009 downloaded to /home/myuser/.cache/ms-playwright/ffmpeg-1009\n",
            "CHROME_BINARY=/home/myuser/.cache/ms-playwright/chromium-1084/chrome-linux/chrome\n",
            "\n",
            "\u001b[01;33m[i] Note: This change also affected these other options that depended on it:\u001b[00;00m\n",
            "    SECRET_KEY=dlGe_uYZdvak2ayy35gAFLthWduqKbZm8vK_ZwKVuaxVlG4jkn\n",
            "    SAVE_SINGLEFILE=True\n",
            "    SAVE_PDF=True\n",
            "    SAVE_SCREENSHOT=True\n",
            "    SAVE_DOM=True\n",
            "    USE_CHROME=True\n",
            "\n",
            "    Installing SINGLEFILE_BINARY, READABILITY_BINARY, MERCURY_BINARY automatically using npm...\n",
            "\u001b[K\u001b[?25h\n",
            "> core-js@2.6.12 postinstall /content/archivebox/node_modules/core-js\n",
            "> node -e \"try{require('./postinstall')}catch(e){}\"\n",
            "\n",
            "added 269 packages from 280 contributors in 800.104s\n",
            "\u001b[01;32m\n",
            "[√] Set up ArchiveBox and its dependencies successfully.\u001b[00;00m\n",
            "0.7.1\n",
            "ArchiveBox v0.7.1 Cpython Linux Linux-5.15.120+-x86_64-with-glibc2.35 x86_64\n",
            "DEBUG=False IN_DOCKER=False IN_QEMU=False IS_TTY=True TZ=UTC FS_ATOMIC=True FS_REMOTE=False FS_USER=1000:1000 FS_PERMS=644 SEARCH_BACKEND=ripgrep\n",
            "\n",
            "\u001b[01;37m[i] Dependency versions:\u001b[00;00m\n",
            "\u001b[01;32m √ \u001b[00;00m PYTHON_BINARY         v3.10.12       \u001b[01;32m valid    \u001b[00;00m /usr/bin/python3.10                                                         \n",
            "\u001b[01;32m √ \u001b[00;00m SQLITE_BINARY         v2.6.0         \u001b[01;32m valid    \u001b[00;00m /usr/lib/python3.10/sqlite3/dbapi2.py                                       \n",
            "\u001b[01;32m √ \u001b[00;00m DJANGO_BINARY         v3.1.14        \u001b[01;32m valid    \u001b[00;00m /usr/local/lib/python3.10/dist-packages/django/__init__.py                  \n",
            "\u001b[01;32m √ \u001b[00;00m ARCHIVEBOX_BINARY     v0.7.1         \u001b[01;32m valid    \u001b[00;00m /usr/local/bin/archivebox                                                   \n",
            "\n",
            "\u001b[01;32m √ \u001b[00;00m CURL_BINARY           v7.81.0        \u001b[01;32m valid    \u001b[00;00m /usr/bin/curl                                                               \n",
            "\u001b[01;32m √ \u001b[00;00m WGET_BINARY           v1.21.2        \u001b[01;32m valid    \u001b[00;00m /usr/bin/wget                                                               \n",
            "\u001b[01;32m √ \u001b[00;00m NODE_BINARY           v14.16.0       \u001b[01;32m valid    \u001b[00;00m /tools/node/bin/node                                                        \n",
            "\u001b[01;32m √ \u001b[00;00m SINGLEFILE_BINARY     v1.1.27        \u001b[01;32m valid    \u001b[00;00m ./node_modules/single-file-cli/single-file                                  \n",
            "\u001b[01;32m √ \u001b[00;00m READABILITY_BINARY    v0.0.9         \u001b[01;32m valid    \u001b[00;00m ./node_modules/readability-extractor/readability-extractor                  \n",
            "\u001b[01;32m √ \u001b[00;00m MERCURY_BINARY        v1.0.0         \u001b[01;32m valid    \u001b[00;00m ./node_modules/@postlight/parser/cli.js                                     \n",
            "\u001b[01;32m √ \u001b[00;00m GIT_BINARY            v2.34.1        \u001b[01;32m valid    \u001b[00;00m /usr/bin/git                                                                \n",
            "\u001b[01;32m √ \u001b[00;00m YOUTUBEDL_BINARY      v2023.10.13    \u001b[01;32m valid    \u001b[00;00m /usr/local/bin/yt-dlp                                                       \n",
            "\u001b[01;32m √ \u001b[00;00m CHROME_BINARY         v119.0.6045.9  \u001b[01;32m valid    \u001b[00;00m /home/myuser/.cache/ms-playwright/chromium-1084/chrome-linux/chrome         \n",
            "\u001b[01;31m X \u001b[00;00m RIPGREP_BINARY        ?              \u001b[01;31m invalid  \u001b[00;00m rg                                                                          \n",
            "\n",
            "\u001b[01;37m[i] Source-code locations:\u001b[00;00m\n",
            "\u001b[01;32m √ \u001b[00;00m PACKAGE_DIR           24 files       \u001b[01;32m valid    \u001b[00;00m /usr/local/lib/python3.10/dist-packages/archivebox                          \n",
            "\u001b[01;32m √ \u001b[00;00m TEMPLATES_DIR         4 files        \u001b[01;32m valid    \u001b[00;00m /usr/local/lib/python3.10/dist-packages/archivebox/templates                \n",
            "\u001b[01;33m - \u001b[00;00m CUSTOM_TEMPLATES_DIR  -              \u001b[01;33m disabled \u001b[00;00m None                                                                        \n",
            "\n",
            "\u001b[01;37m[i] Secrets locations:\u001b[00;00m\n",
            "\u001b[01;33m - \u001b[00;00m CHROME_USER_DATA_DIR  -              \u001b[01;33m disabled \u001b[00;00m None                                                                        \n",
            "\u001b[01;33m - \u001b[00;00m COOKIES_FILE          -              \u001b[01;33m disabled \u001b[00;00m None                                                                        \n",
            "\n",
            "\u001b[01;37m[i] Data locations:\u001b[00;00m\n",
            "\u001b[01;32m √ \u001b[00;00m OUTPUT_DIR            6 files        \u001b[01;32m valid    \u001b[00;00m /content/archivebox                                                         \n",
            "\u001b[01;32m √ \u001b[00;00m SOURCES_DIR           0 files        \u001b[01;32m valid    \u001b[00;00m ./sources                                                                   \n",
            "\u001b[01;32m √ \u001b[00;00m LOGS_DIR              0 files        \u001b[01;32m valid    \u001b[00;00m ./logs                                                                      \n",
            "\u001b[01;32m √ \u001b[00;00m ARCHIVE_DIR           0 files        \u001b[01;32m valid    \u001b[00;00m ./archive                                                                   \n",
            "\u001b[01;32m √ \u001b[00;00m CONFIG_FILE           186.0 Bytes    \u001b[01;32m valid    \u001b[00;00m ./ArchiveBox.conf                                                           \n",
            "\u001b[01;32m √ \u001b[00;00m SQL_INDEX             204.0 KB       \u001b[01;32m valid    \u001b[00;00m ./index.sqlite3                                                             \n",
            "\n",
            "\u001b[01;33m[!] Warning: Missing 1 recommended dependencies\u001b[00;00m\n",
            "    ! RIPGREP_BINARY: rg (unable to detect version)\n",
            "\n",
            "\n",
            "    \u001b[01;35mHint:\u001b[00;00m To view your archive index, run:\n",
            "        archivebox server  # then visit http://127.0.0.1:8000\n",
            "\n",
            "    To add new links, you can run:\n",
            "        archivebox add < ~/some/path/to/list_of_links.txt\n",
            "\n",
            "    For more usage and examples, run:\n",
            "        archivebox help\n"
          ]
        }
      ]
    },
    {
      "cell_type": "code",
      "source": [
        "!sudo apt-get install ripgrep"
      ],
      "metadata": {
        "colab": {
          "base_uri": "https://localhost:8080/"
        },
        "id": "b6m4295Cqojb",
        "outputId": "a3d760d0-0dd1-4101-c727-0826d2730d52"
      },
      "execution_count": null,
      "outputs": [
        {
          "output_type": "stream",
          "name": "stdout",
          "text": [
            "Reading package lists... Done\n",
            "Building dependency tree... Done\n",
            "Reading state information... Done\n",
            "The following NEW packages will be installed:\n",
            "  ripgrep\n",
            "0 upgraded, 1 newly installed, 0 to remove and 8 not upgraded.\n",
            "Need to get 1,300 kB of archives.\n",
            "After this operation, 4,247 kB of additional disk space will be used.\n",
            "Get:1 http://archive.ubuntu.com/ubuntu jammy-updates/universe amd64 ripgrep amd64 13.0.0-2ubuntu0.1 [1,300 kB]\n",
            "Fetched 1,300 kB in 1s (1,115 kB/s)\n",
            "debconf: unable to initialize frontend: Dialog\n",
            "debconf: (No usable dialog-like program is installed, so the dialog based frontend cannot be used. at /usr/share/perl5/Debconf/FrontEnd/Dialog.pm line 78, <> line 1.)\n",
            "debconf: falling back to frontend: Readline\n",
            "debconf: unable to initialize frontend: Readline\n",
            "debconf: (This frontend requires a controlling tty.)\n",
            "debconf: falling back to frontend: Teletype\n",
            "dpkg-preconfigure: unable to re-open stdin: \n",
            "Selecting previously unselected package ripgrep.\n",
            "(Reading database ... 121125 files and directories currently installed.)\n",
            "Preparing to unpack .../ripgrep_13.0.0-2ubuntu0.1_amd64.deb ...\n",
            "Unpacking ripgrep (13.0.0-2ubuntu0.1) ...\n",
            "Setting up ripgrep (13.0.0-2ubuntu0.1) ...\n",
            "Processing triggers for man-db (2.10.2-1) ...\n"
          ]
        }
      ]
    },
    {
      "cell_type": "code",
      "source": [
        "!su - myuser -c \"cd /content/archivebox && archivebox add < /content/htu_urls.csv\""
      ],
      "metadata": {
        "colab": {
          "base_uri": "https://localhost:8080/"
        },
        "id": "GU6Z32C5VEkX",
        "outputId": "17dd4d4c-d226-4468-e423-b9381161df77"
      },
      "execution_count": null,
      "outputs": [
        {
          "metadata": {
            "tags": null
          },
          "name": "stdout",
          "output_type": "stream",
          "text": [
            "\u001b[01;30m[i] [2023-11-13 21:52:34] ArchiveBox v0.7.1: archivebox add\u001b[00;00m\n",
            "\u001b[01;30m    > /content/archivebox\u001b[00;00m\n",
            "\n",
            "\u001b[01;32m[+] [2023-11-13 21:52:40] Adding 257817 links to index (crawl depth=0)...\u001b[00;00m\n",
            "[Errno 36] File name too long: '81483,https:/translate.google.ca/?sl=auto&tl=en&text=%E0%A4%85%E0%A4%A8%E0%A5%81%20%E0%A4%AD%E0%A5%80%20%E0%A4%9C%E0%A5%8D%E0%A4%AF%E0%A4%BE%E0%A4%9C%E0%A4%BE%2C%20%E0%A4%86%E0%A4%A8%E0%A4%B0%E0%A4%BE%20%E0%A4%AD%E0%A5%80%20%E0%A4%9C%E0%A5%8D%E0%A4%AF%E0%A4%BE%E0%A4%9C%E0%A4%BE%2C%20%E0%A4%AE%E0%A5%80%E0%A4%9F%E0%A4%BF%E0%A4%82%E0%A4%97%20%E0%A4%A6%E0%A5%87%E0%A4%96%E0%A4%A8%E0%A5%87%2C%20%E0%A4%B9%E0%A4%AE%E0%A4%BE%E0%A4%B0%E0%A5%8D%E0%A4%95%E0%A4%BE%20%E0%A4%B5%E0%A4%BE%E0%A4%B0%E0%A5%8D%E0%A4%A1%E0%A4%BC%20%E0%A4%AC%E0%A5%81%E0%A4%9C%E0%A4%9C%E0%A5%80%E0%A4%9A%20%E0%A4%AD%E0%A5%81%E0%A4%9C%E0%A4%BF%E0%A4%8F%E0%A4%82%20%E0%A4%A6%E0%A5%87%E0%A4%96%E0%A4%A8%E0%A5%87%20%E0%A4%AC%E0%A5%81%E0%A4%9C%E0%A4%9C%E0%A5%80%E0%A4%9A%20%E0%A4%B5%E0%A5%8B%20%E0%A4%85%E0%A4%AA%E0%A4%A8%E0%A5%87%20%E0%A4%AA%E0%A4%B0%20%E0%A4%AC%E0%A4%A4%E0%A4%BE%20%E0%A4%B9%E0%A5%88%2C%20%E0%A4%AE%E0%A5%88%E0%A4%82%20%E0%A4%B5%E0%A5%8B%20%E0%A4%AC%E0%A4%9A%E0%A4%BE%20%E0%A4%B9%E0%A5%82%E0%A4%81%2C%20%E0%A4%AE%E0%A5%88%E0%A4%82%20%E0%A4%B5%E0%A5%8B%20%E0%A4%AC%E0%A4%9A%E0%A4%BE%20%E0%A4%B9%E0%A5%82%E0%A4%81%2C%20%E0%A4%AE%E0%A5%88%E0%A4%82%20%E0%A4%B5%E0%A5%8B%20%E0%A4%AC%E0%A4%9A%E0%A4%BE%20%E0%A4%B9%E0%A5%82%E0%A4%81%20%E0%A4%85%E0%A4%97%E0%A4%B0%20%E0%A4%B5%E0%A5%8B%20%E0%A4%AC%E0%A4%9A%E0%A4%BE%20%E0%A4%B9%E0%A5%88%2C%20%E0%A4%A4%E0%A5%8B%20%E0%A4%AF%E0%A4%B9%20%E0%A4%AA%E0%A4%B0%20%E0%A4%AA%E0%A4%B0%20%E0%A4%A6%E0%A5%87%E0%A4%96%E0%A4%A8%E0%A5%87%20%E0%A4%95%E0%A5%87%20%E0%A4%B2%E0%A4%BF%E0%A4%8F%20%E0%A4%A8%E0%A4%B9%E0%A5%80%E0%A4%82%20%E0%A4%B9%E0%A5%88%2C%20%E0%A4%85%E0%A4%97%E0%A4%B0%20%E0%A4%B5%E0%A5%8B%20%E0%A4%AC%E0%A4%9A%E0%A4%BE%20%E0%A4%B9%E0%A5%88%2C%20%E0%A4%A4%E0%A5%8B%20%E0%A4%AF%E0%A4%B9%20%E0%A4%AA%E0%A4%B0%20%E0%A4%AC%E0%A4%9A%E0%A4%BE%20%E0%A4%B9%E0%A5%88%2C%20%E0%A4%85%E0%A4%97%E0%A4%B0%20%E0%A4%B5%E0%A5%8B%20%E0%A4%AC%E0%A4%9A%E0%A4%BE%20%E0%A4%B9%E0%A5%88%2C%20%E0%A4%A4%E0%A5%8B%20%E0%A4%AF%E0%A4%B9%20%E0%A4%AA%E0%A4%B0%20%E0%A4%AC%E0%A4%9A%E0%A4%BE%20%E0%A4%B9%E0%A5%88%2C%20%E0%A4%A4%E0%A5%8B%20%E0%A4%AF%E0%A4%B9%20%E0%A4%AA%E0%A4%B0%20%E0%A4%AC%E0%A4%9A%E0%A4%BE%20%E0%A4%B9%E0%A5%88%2C%20%E0%A4%A4%E0%A5%8B%20%E0%A4%AF%E0%A4%B9%20%E0%A4%AA%E0%A4%B0%20%E0%A4%AC%E0%A4%9A%E0%A4%BE%20%E0%A4%B9%E0%A5%88%2C%20%E0%A4%A4%E0%A5%8B%20%E0%A4%AF%E0%A4%B9%20%E0%A4%AA%E0%A4%B0%20%E0%A4%AC%E0%A4%9A%E0%A4%BE%20%E0%A4%B9%E0%A5%88%2C%20%E0%A4%A4%E0%A5%8B%20%E0%A4%AF%E0%A4%B9%20%E0%A4%AA%E0%A4%B0%20%E0%A4%AC%E0%A4%9A%E0%A4%BE%20%E0%A4%B9%E0%A5%88%2C%20%E0%A4%A4%E0%A5%8B%20%E0%A4%AF%E0%A4%B9%20%E0%A4%AA%E0%A4%B0%20%E0%A4%AC%E0%A4%9A%E0%A4%BE%20%E0%A4%B9%E0%A5%88%2C%20%E0%A4%A4%E0%A5%8B%20%E0%A4%AF%E0%A4%B9%20%E0%A4%AA%E0%A4%B0%20%E0%A4%AC%E0%A4%9A%E0%A4%BE%20%E0%A4%B9%E0%A5%88%2C%20%E0%A4%A4%E0%A5%8B%20%E0%A4%AF%20%E0%A4%95%E0%A5%8D%E0%A4%B7%E0%A4%BF%E0%A4%A8%E0%A4%95%E0%A5%8B%20%E0%A4%AD%E0%A5%80%20%E0%A4%AA%E0%A4%B9%E0%A4%B2%E0%A5%87%20%E0%A4%AC%E0%A5%8B%E0%A4%B2%E0%A5%87%20%E0%A4%86%E0%A4%97%E0%A4%B0%20%E0%A4%B5%E0%A5%8B%20%E0%A4%AC%E0%A4%9A%E0%A4%BE%20%E0%A4%B9%E0%A5%88%2C%20%E0%A4%A4%E0%A5%8B%20%E0%A4%AF%E0%A4%B9%20%E0%A4%AA%E0%A4%B0%20%E0%A4%AC%E0%A4%9A%E0%A4%BE%20%E0%A4%B9%E0%A5%88%2C%20%E0%A4%A4%E0%A5%8B%20%E0%A4%AF%E0%A4%B9%20%E0%A4%AA%E0%A4%B0%20%E0%A4%AC%E0%A4%9A%E0%A4%BE%20%E0%A4%B9%E0%A5%88%2C%20%E0%A4%A4%E0%A5%8B%20%E0%A4%AF%E0%A4%B9%20%E0%A4%AA%E0%A4%B0%20%E0%A4%AC%E0%A4%9A%E0%A4%BE%20%E0%A4%B9%E0%A5%88%2C%20%E0%A4%A4%E0%A5%8B%20%E0%A4%AF%E0%A4%B9%20%E0%A4%AA%E0%A4%B0%20%E0%A4%AC%E0%A4%9A%E0%A4%BE%20%E0%A4%B9%E0%A5%88%2C%20%E0%A4%A4%E0%A5%8B%20%E0%A4%AF%E0%A4%B9%20%E0%A4%AA%E0%A4%B0%20%E0%A4%AC%E0%A4%9A%E0%A4%BE%20%E0%A4%B9%E0%A5%88%2C%20%E0%A4%A4%E0%A5%8B%20%E0%A4%AF%E0%A4%B9%20%E0%A4%AA%E0%A4%B9%E0%A4%B2%E0%A5%87%20%E0%A4%AC%E0%A5%8B%E0%A4%B2%E0%A5%87%20%E0%A4%AA%E0%A5%8B%E0%A4%B2%E0%A5%87%20%E0%A4%AC%E0%A5%8B%E0%A4%B2%E0%A5%87%20%E0%A4%AC%E0%A4%9A%E0%A4%BE%20%E0%A4%B9%E0%A5%88%2C%20%E0%A4%A4%E0%A5%8B%20%E0%A4%AF%E0%A4%B9%20%E0%A4%AA%E0%A4%B0%20%E0%A4%AC%E0%A4%9A%E0%A4%BE%20%E0%A4%B9%E0%A5%88%2C%20%E0%A4%A4%E0%A5%8B%20%E0%A4%AF%E0%A4%B9%20%E0%A4%AA%E0%A4%B0%20%E0%A4%AC%E0%A4%9A%E0%A4%BE%20%E0%A4%B9%E0%A5%88%20%E0%A4%A4%E0%A5%8B%20%E0%A4%AF%E0%A4%B9%20%E0%A4%AA%E0%A4%B9%E0%A4%B2%E0%A5%87%20%E0%A4%AC%E0%A5%8B%E0%A4%B2%E0%A5%87%20%EF%BF%BD%20%E0%A4%86%E0%A4%AA%20%E0%A4%96%E0%A5%81%E0%A4%B2%E0%A4%BE%20%E0%A4%AA%E0%A4%B0%20%E0%A4%87%E0%A4%B8%E0%A5%87%20%E0%A4%AC%E0%A4%BE%E0%A4%A4%20%E0%A4%A6%E0%A5%87%E0%A4%82%E0%A4%97%E0%A5%87%2C%20%E0%A4%AF%E0%A5%87%20%E0%A4%AA%E0%A4%B0%20%E0%A4%AA%E0%A4%A1%E0%A4%BC%E0%A4%BE%20%E0%A4%A6%E0%A5%87%E0%A4%82%E0%A4%97%E0%A5%87%20%E0%A4%B8%E0%A5%87%20%E0%A4%AA%E0%A4%B0%20%E0%A4%AA%E0%A5%8D%E0%A4%B0%E0%A4%B8%E0%A4%BE%E0%A4%B0%E0%A4%BE%20%E0%A4%B9%E0%A5%88%20%E0%A4%AA%E0%A4%B0%20%E0%A4%AA%E0%A4%B0%20%E0%A4%AA%E0%A5%8D%E0%A4%B0%E0%A4%B8%E0%A4%BE%E0%A4%B0%E0%A4%BE%20%E0%A4%A8%E0%A4%B9%E0%A5%80%E0%A4%82%20%E0%A4%B9%E0%A5%8B%20%E0%A4%97%E0%A4%AF%E0%A4%BE%2C%20%E0%A4%86%E0%A4%AA%20%E0%A4%9C%E0%A4%AC%20%E0%A4%AA%E0%A5%8D%E0%A4%B0%E0%A4%B8%E0%A4%BE%E0%A4%B0%E0%A4%BE%20%E0%A4%A8%E0%A4%B9%E0%A5%80%E0%A4%82%20%E0%A4%B2%E0%A5%87%E0%A4%82%E0%A4%97%E0%A5%87%20%E0%A4%A4%E0%A5%8B%20%E0%A4%85%E0%A4%AA%E0%A4%A8%E0%A5%87%20%E0%A4%B8%E0%A4%BE%E0%A4%A5%20%E0%A4%AA%E0%A4%B0%20%E0%A4%AA%E0%A5%8D%E0%A4%B0%E0%A4%B8%E0%A4%BE%E0%A4%B0%E0%A4%BE%20%E0%A4%A8%E0%A4%B9%E0%A5%80%E0%A4%82%20%E0%A4%B2%E0%A5%87%E0%A4%82%E0%A4%97%E0%A5%87%20%E0%A4%86%E0%A4%AA%E0%A4%95%E0%A5%8B%20%E0%A4%85%E0%A4%AA%E0%A4%A8%E0%A5%87%20%E0%A4%B8%E0%A4%BE%E0%A4%A5%20%E0%A4%AA%E0%A4%B0%20%E0%A4%AA%E0%A5%8D%E0%A4%B0%E0%A4%B8%E0%A4%BE%E0%A4%B0%E0%A4%BE%20%E0%A4%A8%E0%A4%B9%E0%A5%80%E0%A4%82%20%E0%A4%B2%E0%A5%87%E0%A4%82%E0%A4%97%E0%A5%87%2C%20%E0%A4%86%E0%A4%AA%E0%A4%95%E0%A5%8B%20%E0%A4%85%E0%A4%AA%E0%A4%A8%E0%A5%87%20%E0%A4%B8%E0%A4%BE%E0%A4%A5%20%E0%A4%AA%E0%A4%B0%20%E0%A4%AA%E0%A5%8D%E0%A4%B0%E0%A4%B8%E0%A4%BE%E0%A4%B0%E0%A4%BE%20%E0%A4%A8%E0%A4%B9%E0%A5%80%E0%A4%82%20%E0%A4%B2%E0%A5%87%E0%A4%82%E0%A4%97%E0%A5%87%20%E0%A4%AF%E0%A5%87%20%E0%A4%AA%E0%A4%B0%E0%A4%B8%E0%A4%BE%E0%A4%B0%E0%A4%BE%20%E0%A4%A8%E0%A4%B9%E0%A5%80%E0%A4%82%20%E0%A4%B9%E0%A5%8B%20%E0%A4%97%E0%A4%AF%E0%A4%BE%2C%20%E0%A4%86%E0%A4%AA%E0%A4%95%E0%A5%8B%20%E0%A4%85%E0%A4%AA%E0%A4%A8%E0%A5%87%20%E0%A4%B8%E0%A4%BE%E0%A4%A5%20%E0%A4%AA%E0%A4%B0%20%E0%A4%AA%E0%A5%8D%E0%A4%B0%E0%A4%B8%E0%A4%BE%E0%A4%B0%E0%A4%BE%20%E0%A4%A8%E0%A4%B9%E0%A5%80%E0%A4%82%20%E0%A4%B2%E0%A5%87%E0%A4%82%E0%A4%97%E0%A5%87&op=translate'\n",
            "[Errno 36] File name too long: '81484,https:/translate.google.ca/?sl=auto&tl=en&text=%E0%A4%85%E0%A4%A8%E0%A5%81%20%E0%A4%AD%E0%A5%80%20%E0%A4%9C%E0%A5%8D%E0%A4%AF%E0%A4%BE%E0%A4%9C%E0%A4%BE%2C%20%E0%A4%86%E0%A4%A8%E0%A4%B0%E0%A4%BE%20%E0%A4%AD%E0%A5%80%20%E0%A4%9C%E0%A5%8D%E0%A4%AF%E0%A4%BE%E0%A4%9C%E0%A4%BE%2C%20%E0%A4%AE%E0%A5%80%E0%A4%9F%E0%A4%BF%E0%A4%82%E0%A4%97%20%E0%A4%A6%E0%A5%87%E0%A4%96%E0%A4%A8%E0%A5%87%2C%20%E0%A4%B9%E0%A4%AE%E0%A4%BE%E0%A4%B0%E0%A5%8D%E0%A4%95%E0%A4%BE%20%E0%A4%B5%E0%A4%BE%E0%A4%B0%E0%A5%8D%E0%A4%A1%E0%A4%BC%20%E0%A4%AC%E0%A5%81%E0%A4%9C%E0%A4%9C%E0%A5%80%E0%A4%9A%20%E0%A4%AD%E0%A5%81%E0%A4%9C%E0%A4%BF%E0%A4%8F%E0%A4%82%20%E0%A4%A6%E0%A5%87%E0%A4%96%E0%A4%A8%E0%A5%87%20%E0%A4%AC%E0%A5%81%E0%A4%9C%E0%A4%9C%E0%A5%80%E0%A4%9A%20%E0%A4%B5%E0%A5%8B%20%E0%A4%85%E0%A4%AA%E0%A4%A8%E0%A5%87%20%E0%A4%AA%E0%A4%B0%20%E0%A4%AC%E0%A4%A4%E0%A4%BE%20%E0%A4%B9%E0%A5%88%2C%20%E0%A4%AE%E0%A5%88%E0%A4%82%20%E0%A4%B5%E0%A5%8B%20%E0%A4%AC%E0%A4%9A%E0%A4%BE%20%E0%A4%B9%E0%A5%82%E0%A4%81%2C%20%E0%A4%AE%E0%A5%88%E0%A4%82%20%E0%A4%B5%E0%A5%8B%20%E0%A4%AC%E0%A4%9A%E0%A4%BE%20%E0%A4%B9%E0%A5%82%E0%A4%81%2C%20%E0%A4%AE%E0%A5%88%E0%A4%82%20%E0%A4%B5%E0%A5%8B%20%E0%A4%AC%E0%A4%9A%E0%A4%BE%20%E0%A4%B9%E0%A5%82%E0%A4%81%20%E0%A4%85%E0%A4%97%E0%A4%B0%20%E0%A4%B5%E0%A5%8B%20%E0%A4%AC%E0%A4%9A%E0%A4%BE%20%E0%A4%B9%E0%A5%88%2C%20%E0%A4%A4%E0%A5%8B%20%E0%A4%AF%E0%A4%B9%20%E0%A4%AA%E0%A4%B0%20%E0%A4%AA%E0%A4%B0%20%E0%A4%A6%E0%A5%87%E0%A4%96%E0%A4%A8%E0%A5%87%20%E0%A4%95%E0%A5%87%20%E0%A4%B2%E0%A4%BF%E0%A4%8F%20%E0%A4%A8%E0%A4%B9%E0%A5%80%E0%A4%82%20%E0%A4%B9%E0%A5%88%2C%20%E0%A4%85%E0%A4%97%E0%A4%B0%20%E0%A4%B5%E0%A5%8B%20%E0%A4%AC%E0%A4%9A%E0%A4%BE%20%E0%A4%B9%E0%A5%88%2C%20%E0%A4%A4%E0%A5%8B%20%E0%A4%AF%E0%A4%B9%20%E0%A4%AA%E0%A4%B0%20%E0%A4%AC%E0%A4%9A%E0%A4%BE%20%E0%A4%B9%E0%A5%88%2C%20%E0%A4%85%E0%A4%97%E0%A4%B0%20%E0%A4%B5%E0%A5%8B%20%E0%A4%AC%E0%A4%9A%E0%A4%BE%20%E0%A4%B9%E0%A5%88%2C%20%E0%A4%A4%E0%A5%8B%20%E0%A4%AF%E0%A4%B9%20%E0%A4%AA%E0%A4%B0%20%E0%A4%AC%E0%A4%9A%E0%A4%BE%20%E0%A4%B9%E0%A5%88%2C%20%E0%A4%A4%E0%A5%8B%20%E0%A4%AF%E0%A4%B9%20%E0%A4%AA%E0%A4%B0%20%E0%A4%AC%E0%A4%9A%E0%A4%BE%20%E0%A4%B9%E0%A5%88%2C%20%E0%A4%A4%E0%A5%8B%20%E0%A4%AF%E0%A4%B9%20%E0%A4%AA%E0%A4%B0%20%E0%A4%AC%E0%A4%9A%E0%A4%BE%20%E0%A4%B9%E0%A5%88%2C%20%E0%A4%A4%E0%A5%8B%20%E0%A4%AF%E0%A4%B9%20%E0%A4%AA%E0%A4%B0%20%E0%A4%AC%E0%A4%9A%E0%A4%BE%20%E0%A4%B9%E0%A5%88%2C%20%E0%A4%A4%E0%A5%8B%20%E0%A4%AF%E0%A4%B9%20%E0%A4%AA%E0%A4%B0%20%E0%A4%AC%E0%A4%9A%E0%A4%BE%20%E0%A4%B9%E0%A5%88%2C%20%E0%A4%A4%E0%A5%8B%20%E0%A4%AF%E0%A4%B9%20%E0%A4%AA%E0%A4%B0%20%E0%A4%AC%E0%A4%9A%E0%A4%BE%20%E0%A4%B9%E0%A5%88%2C%20%E0%A4%A4%E0%A5%8B%20%E0%A4%AF%E0%A4%B9%20%E0%A4%AA%E0%A4%B0%20%E0%A4%AC%E0%A4%9A%E0%A4%BE%20%E0%A4%B9%E0%A5%88%2C%20%E0%A4%A4%E0%A5%8B%20%E0%A4%AF%20%E0%A4%95%E0%A5%8D%E0%A4%B7%E0%A4%BF%E0%A4%A8%E0%A4%95%E0%A5%8B%20%E0%A4%AD%E0%A5%80%20%E0%A4%AA%E0%A4%B9%E0%A4%B2%E0%A5%87%20%E0%A4%AC%E0%A5%8B%E0%A4%B2%E0%A5%87%20%E0%A4%86%E0%A4%97%E0%A4%B0%20%E0%A4%B5%E0%A5%8B%20%E0%A4%AC%E0%A4%9A%E0%A4%BE%20%E0%A4%B9%E0%A5%88%2C%20%E0%A4%A4%E0%A5%8B%20%E0%A4%AF%E0%A4%B9%20%E0%A4%AA%E0%A4%B0%20%E0%A4%AC%E0%A4%9A%E0%A4%BE%20%E0%A4%B9%E0%A5%88%2C%20%E0%A4%A4%E0%A5%8B%20%E0%A4%AF%E0%A4%B9%20%E0%A4%AA%E0%A4%B0%20%E0%A4%AC%E0%A4%9A%E0%A4%BE%20%E0%A4%B9%E0%A5%88%2C%20%E0%A4%A4%E0%A5%8B%20%E0%A4%AF%E0%A4%B9%20%E0%A4%AA%E0%A4%B0%20%E0%A4%AC%E0%A4%9A%E0%A4%BE%20%E0%A4%B9%E0%A5%88%2C%20%E0%A4%A4%E0%A5%8B%20%E0%A4%AF%E0%A4%B9%20%E0%A4%AA%E0%A4%B0%20%E0%A4%AC%E0%A4%9A%E0%A4%BE%20%E0%A4%B9%E0%A5%88%2C%20%E0%A4%A4%E0%A5%8B%20%E0%A4%AF%E0%A4%B9%20%E0%A4%AA%E0%A4%B0%20%E0%A4%AC%E0%A4%9A%E0%A4%BE%20%E0%A4%B9%E0%A5%88%2C%20%E0%A4%A4%E0%A5%8B%20%E0%A4%AF%E0%A4%B9%20%E0%A4%AA%E0%A4%B9%E0%A4%B2%E0%A5%87%20%E0%A4%AC%E0%A5%8B%E0%A4%B2%E0%A5%87%20%E0%A4%AA%E0%A5%8B%E0%A4%B2%E0%A5%87%20%E0%A4%AC%E0%A5%8B%E0%A4%B2%E0%A5%87%20%E0%A4%AC%E0%A4%9A%E0%A4%BE%20%E0%A4%B9%E0%A5%88%2C%20%E0%A4%A4%E0%A5%8B%20%E0%A4%AF%E0%A4%B9%20%E0%A4%AA%E0%A4%B0%20%E0%A4%AC%E0%A4%9A%E0%A4%BE%20%E0%A4%B9%E0%A5%88%2C%20%E0%A4%A4%E0%A5%8B%20%E0%A4%AF%E0%A4%B9%20%E0%A4%AA%E0%A4%B0%20%E0%A4%AC%E0%A4%9A%E0%A4%BE%20%E0%A4%B9%E0%A5%88%20%E0%A4%A4%E0%A5%8B%20%E0%A4%AF%E0%A4%B9%20%E0%A4%AA%E0%A4%B9%E0%A4%B2%E0%A5%87%20%E0%A4%AC%E0%A5%8B%E0%A4%B2%E0%A5%87%20%EF%BF%BD%20%E0%A4%86%E0%A4%AA%20%E0%A4%96%E0%A5%81%E0%A4%B2%E0%A4%BE%20%E0%A4%AA%E0%A4%B0%20%E0%A4%87%E0%A4%B8%E0%A5%87%20%E0%A4%AC%E0%A4%BE%E0%A4%A4%20%E0%A4%A6%E0%A5%87%E0%A4%82%E0%A4%97%E0%A5%87%2C%20%E0%A4%AF%E0%A5%87%20%E0%A4%AA%E0%A4%B0%20%E0%A4%AA%E0%A4%A1%E0%A4%BC%E0%A4%BE%20%E0%A4%A6%E0%A5%87%E0%A4%82%E0%A4%97%E0%A5%87%20%E0%A4%B8%E0%A5%87%20%E0%A4%AA%E0%A4%B0%20%E0%A4%AA%E0%A5%8D%E0%A4%B0%E0%A4%B8%E0%A4%BE%E0%A4%B0%E0%A4%BE%20%E0%A4%B9%E0%A5%88%20%E0%A4%AA%E0%A4%B0%20%E0%A4%AA%E0%A4%B0%20%E0%A4%AA%E0%A5%8D%E0%A4%B0%E0%A4%B8%E0%A4%BE%E0%A4%B0%E0%A4%BE%20%E0%A4%A8%E0%A4%B9%E0%A5%80%E0%A4%82%20%E0%A4%B9%E0%A5%8B%20%E0%A4%97%E0%A4%AF%E0%A4%BE%2C%20%E0%A4%86%E0%A4%AA%20%E0%A4%9C%E0%A4%AC%20%E0%A4%AA%E0%A5%8D%E0%A4%B0%E0%A4%B8%E0%A4%BE%E0%A4%B0%E0%A4%BE%20%E0%A4%A8%E0%A4%B9%E0%A5%80%E0%A4%82%20%E0%A4%B2%E0%A5%87%E0%A4%82%E0%A4%97%E0%A5%87%20%E0%A4%A4%E0%A5%8B%20%E0%A4%85%E0%A4%AA%E0%A4%A8%E0%A5%87%20%E0%A4%B8%E0%A4%BE%E0%A4%A5%20%E0%A4%AA%E0%A4%B0%20%E0%A4%AA%E0%A5%8D%E0%A4%B0%E0%A4%B8%E0%A4%BE%E0%A4%B0%E0%A4%BE%20%E0%A4%A8%E0%A4%B9%E0%A5%80%E0%A4%82%20%E0%A4%B2%E0%A5%87%E0%A4%82%E0%A4%97%E0%A5%87%20%E0%A4%86%E0%A4%AA%E0%A4%95%E0%A5%8B%20%E0%A4%85%E0%A4%AA%E0%A4%A8%E0%A5%87%20%E0%A4%B8%E0%A4%BE%E0%A4%A5%20%E0%A4%AA%E0%A4%B0%20%E0%A4%AA%E0%A5%8D%E0%A4%B0%E0%A4%B8%E0%A4%BE%E0%A4%B0%E0%A4%BE%20%E0%A4%A8%E0%A4%B9%E0%A5%80%E0%A4%82%20%E0%A4%B2%E0%A5%87%E0%A4%82%E0%A4%97%E0%A5%87%2C%20%E0%A4%86%E0%A4%AA%E0%A4%95%E0%A5%8B%20%E0%A4%85%E0%A4%AA%E0%A4%A8%E0%A5%87%20%E0%A4%B8%E0%A4%BE%E0%A4%A5%20%E0%A4%AA%E0%A4%B0%20%E0%A4%AA%E0%A5%8D%E0%A4%B0%E0%A4%B8%E0%A4%BE%E0%A4%B0%E0%A4%BE%20%E0%A4%A8%E0%A4%B9%E0%A5%80%E0%A4%82%20%E0%A4%B2%E0%A5%87%E0%A4%82%E0%A4%97%E0%A5%87%20%E0%A4%AF%E0%A5%87%20%E0%A4%AA%E0%A4%B0%E0%A4%B8%E0%A4%BE%E0%A4%B0%E0%A4%BE%20%E0%A4%A8%E0%A4%B9%E0%A5%80%E0%A4%82%20%E0%A4%B9%E0%A5%8B%20%E0%A4%97%E0%A4%AF%E0%A4%BE%2C%20%E0%A4%86%E0%A4%AA%E0%A4%95%E0%A5%8B%20%E0%A4%85%E0%A4%AA%E0%A4%A8%E0%A5%87%20%E0%A4%B8%E0%A4%BE%E0%A4%A5%20%E0%A4%AA%E0%A4%B0%20%E0%A4%AA%E0%A5%8D%E0%A4%B0%E0%A4%B8%E0%A4%BE%E0%A4%B0%E0%A4%BE%20%E0%A4%A8%E0%A4%B9%E0%A5%80%E0%A4%82%20%E0%A4%B2%E0%A5%87%E0%A4%82%E0%A4%97%E0%A5%87&op=translate'\n",
            "[Errno 36] File name too long: '81487,https:/translate.google.ca/?sl=auto&tl=en&text=%E0%A4%AA%E0%A4%B0%20%E0%A4%A8%E0%A4%BE%E0%A4%B8%20%E0%A4%8F%E0%A4%95%20%E0%A4%AC%E0%A4%B9%E0%A5%81%E0%A4%A4%20%E0%A4%AC%E0%A4%BE%E0%A4%87%E0%A4%9F%20%E0%A4%B9%E0%A5%88%2C%20%E0%A4%B5%E0%A4%B9%20%E0%A4%AC%E0%A4%B9%E0%A5%81%E0%A4%A4%20%E0%A4%AC%E0%A4%BE%E0%A4%87%E0%A4%9F%20%E0%A4%B9%E0%A5%88%E0%A5%A4%20%E0%A4%A4%E0%A5%8B%20%E0%A4%B5%E0%A5%8B%20%E0%A4%AA%E0%A4%B0%20%E0%A4%9C%E0%A4%BC%E0%A5%8D%E0%A4%AF%E0%A4%BE%E0%A4%A6%E0%A4%BE%20%E0%A4%96%E0%A5%8B%E0%A4%A1%E0%A4%BC%E0%A5%87%20%E0%A4%B9%E0%A5%8B%20%E0%A4%9C%E0%A4%BE%E0%A4%A4%E0%A4%BE%20%E0%A4%B9%E0%A5%88%2C%20%E0%A4%9C%E0%A4%AC%20%E0%A4%B5%E0%A5%8B%20%E0%A4%9C%E0%A4%BC%E0%A5%8D%E0%A4%AF%E0%A4%BE%E0%A4%A6%E0%A4%BE%20%E0%A4%96%E0%A5%8B%E0%A4%A1%E0%A4%BC%E0%A5%87%20%E0%A4%B9%E0%A5%8B%20%E0%A4%9C%E0%A4%BE%E0%A4%A4%E0%A4%BE%20%E0%A4%B9%E0%A5%88%2C%20%E0%A4%B5%E0%A5%8B%20%E0%A4%AA%E0%A4%B0%20%E0%A4%9C%E0%A4%BC%E0%A5%8D%E0%A4%AF%E0%A4%BE%E0%A4%A6%E0%A4%BE%20%E0%A4%96%E0%A5%8B%E0%A4%A1%E0%A4%BC%E0%A5%87%20%E0%A4%B9%E0%A5%8B%20%E0%A4%9C%E0%A4%BE%E0%A4%A4%E0%A4%BE%20%E0%A4%B9%E0%A5%88%E0%A5%A4%20%E0%A4%AA%E0%A4%B0%20%E0%A4%A8%E0%A4%BE%E0%A4%B8%20%E0%A4%8F%E0%A4%95%20%E0%A4%AC%E0%A4%BE%E0%A4%87%E0%A4%9F%20%E0%A4%B9%E0%A5%88%2C%20%E0%A4%B5%E0%A4%B9%20%E0%A4%AC%E0%A4%B9%E0%A5%81%E0%A4%A4%20%E0%A4%AC%E0%A4%BE%E0%A4%87%E0%A4%9F%20%E0%A4%B9%E0%A5%88%E0%A5%A4%20%E0%A4%A4%E0%A5%8B%20%E0%A4%B5%E0%A5%8B%20%E0%A4%AA%E0%A4%B0%20%E0%A4%9C%E0%A4%BC%E0%A5%8D%E0%A4%AF%E0%A4%BE%E0%A4%A6%E0%A4%BE%20%E0%A4%96%E0%A5%8B%E0%A4%A1%E0%A4%BC%E0%A5%87%20%E0%A4%B9%E0%A5%8B%20%E0%A4%9C%E0%A4%BE%E0%A4%A4%E0%A4%BE%20%E0%A4%B9%E0%A5%88%2C%20%E0%A4%B5%E0%A4%B9%20%E0%A4%AC%E0%A4%B9%E0%A5%81%E0%A4%A4%20%E0%A4%AC%E0%A4%BE%E0%A4%87%E0%A4%9F%20%E0%A4%B9%E0%A5%88%E0%A5%A4%20%E0%A4%A4%E0%A5%8B%20%E0%A4%B5%E0%A5%8B%20%E0%A4%AA%E0%A4%B0%20%E0%A4%9C%E0%A4%BC%E0%A5%8D%E0%A4%AF%E0%A4%BE%E0%A4%A6%E0%A4%BE%20%E0%A4%96%E0%A5%8B%E0%A4%A1%E0%A4%BC%E0%A5%87%20%E0%A4%B9%E0%A5%8B%20%E0%A4%9C%E0%A4%BE%E0%A4%A4%E0%A4%BE%20%E0%A4%B9%E0%A5%88%2C%20%E0%A4%B5%E0%A4%B9%20%E0%A4%AC%E0%A4%B9%E0%A5%81%E0%A4%A4%20%E0%A4%AC%E0%A4%BE%E0%A4%87%E0%A4%9F%20%E0%A4%B9%E0%A5%88%E0%A5%A4%20%E0%A4%A4%E0%A5%8B%20%E0%A4%B5%E0%A5%8B%20%E0%A4%AA%E0%A4%B0%20%E0%A4%9C%E0%A4%BC%E0%A5%8D%E0%A4%AF%E0%A4%BE%E0%A4%A6%E0%A4%BE%20%E0%A4%96%E0%A5%8B%E0%A4%A1%E0%A4%BC%E0%A5%87%20%E0%A4%B9%E0%A5%8B%20%E0%A4%9C%E0%A4%BE%E0%A4%A4%E0%A4%BE%20%E0%A4%B9%E0%A5%88%2C%20%E0%A4%B5%E0%A4%B9%20%E0%A4%AC%E0%A4%B9%E0%A5%81%E0%A4%A4%20%E0%A4%AC%E0%A4%BE%E0%A4%87%E0%A4%9F%20%E0%A4%B9%E0%A5%88%E0%A5%A4%20%E0%A4%A4%E0%A5%8B%20%E0%A4%B5%E0%A5%8B%20%E0%A4%AA%E0%A4%B0%20%E0%A4%9C%E0%A4%BC%E0%A5%8D%E0%A4%AF%E0%A4%BE%E0%A4%A6%E0%A4%BE%20%E0%A4%96%E0%A5%8B%E0%A4%A1%E0%A4%BC%E0%A5%87%20%E0%A4%B9%E0%A5%8B%20%E0%A4%9C%E0%A4%BE%E0%A4%A4%E0%A4%BE%20%E0%A4%B9%E0%A5%88%2C%20%E0%A4%B5%E0%A4%B9%20%E0%A4%AC%E0%A4%B9%E0%A5%81%E0%A4%A4%20%E0%A4%AC%E0%A4%BE%E0%A4%87%E0%A4%9F%20%E0%A4%B9%E0%A5%88%E0%A5%A4%20%E0%A4%A4%E0%A5%8B%20%E0%A4%B5%E0%A5%8B%20%E0%A4%AA%E0%A4%B0%20%E0%A4%9C%E0%A4%BC%E0%A5%8D%E0%A4%AF%E0%A4%BE%E0%A4%A6%E0%A4%BE%20%E0%A4%96%E0%A5%8B%E0%A4%A1%E0%A4%BC%E0%A5%87%20%E0%A4%B9%E0%A5%8B%20%E0%A4%9C%E0%A4%BE%E0%A4%A4%E0%A4%BE%20%E0%A4%B9%E0%A5%88%2C%20%E0%A4%B5%E0%A4%B9%20%E0%A4%AC%E0%A4%B9%E0%A5%81%E0%A4%A4%20%E0%A4%AC%E0%A4%BE%E0%A4%87%E0%A4%9F%20%E0%A4%B9%E0%A5%88%E0%A5%A4%20%E0%A4%A4%E0%A5%8B%20%E0%A4%B5%E0%A5%8B%20%E0%A4%AA%E0%A4%B0%20%E0%A4%9C%E0%A4%BC%E0%A5%8D%E0%A4%AF%E0%A4%BE%E0%A4%A6%E0%A4%BE%20%E0%A4%96%E0%A5%8B%E0%A4%A1%E0%A4%BC%E0%A5%87%20%E0%A4%B9%E0%A5%8B%20%E0%A4%9C%E0%A4%BE%E0%A4%A4%E0%A4%BE%20%E0%A4%B9%E0%A5%88%2C%20%E0%A4%B5%E0%A4%B9%20%E0%A4%AC%E0%A4%B9%E0%A5%81%E0%A4%A4%20%E0%A4%AC%E0%A4%BE%E0%A4%87%E0%A4%9F%20%E0%A4%B9%E0%A5%88%E0%A5%A4%20%E0%A4%A4%E0%A5%8B%20%E0%A4%B5%E0%A5%8B%20%E0%A4%AA%E0%A4%B0%20%E0%A4%9C%E0%A4%BC%E0%A5%8D%E0%A4%AF%E0%A4%BE%E0%A4%A6%E0%A4%BE%20%E0%A4%96%E0%A5%8B%E0%A4%A1%E0%A4%BC%E0%A5%87%20%E0%A4%B9%E0%A5%8B%20%E0%A4%9C%E0%A4%BE%E0%A4%A4%E0%A4%BE%20%E0%A4%B9%E0%A5%88%2C%20%E0%A4%B5%E0%A4%B9%20%E0%A4%AC%E0%A4%B9%E0%A5%81%E0%A4%A4%20%E0%A4%AC%E0%A4%BE%E0%A4%87%E0%A4%9F%20%E0%A4%B9%E0%A5%88%E0%A5%A4%20%E0%A4%A4%E0%A5%8B%20%E0%A4%B5%E0%A5%8B%20%E0%A4%AC%E0%A4%B9%E0%A5%81%E0%A4%A4%20%E0%A4%AC%E0%A4%BE%E0%A4%87%E0%A4%9F%20%E0%A4%B9%E0%A5%88%E0%A5%A4&op=translate'\n",
            "[Errno 36] File name too long: '81488,https:/translate.google.ca/?sl=auto&tl=en&text=%E0%A4%AA%E0%A4%B0%20%E0%A4%A8%E0%A4%BE%E0%A4%B8%20%E0%A4%8F%E0%A4%95%20%E0%A4%AC%E0%A4%B9%E0%A5%81%E0%A4%A4%20%E0%A4%AC%E0%A4%BE%E0%A4%87%E0%A4%9F%20%E0%A4%B9%E0%A5%88%2C%20%E0%A4%B5%E0%A4%B9%20%E0%A4%AC%E0%A4%B9%E0%A5%81%E0%A4%A4%20%E0%A4%AC%E0%A4%BE%E0%A4%87%E0%A4%9F%20%E0%A4%B9%E0%A5%88%E0%A5%A4%20%E0%A4%A4%E0%A5%8B%20%E0%A4%B5%E0%A5%8B%20%E0%A4%AA%E0%A4%B0%20%E0%A4%9C%E0%A4%BC%E0%A5%8D%E0%A4%AF%E0%A4%BE%E0%A4%A6%E0%A4%BE%20%E0%A4%96%E0%A5%8B%E0%A4%A1%E0%A4%BC%E0%A5%87%20%E0%A4%B9%E0%A5%8B%20%E0%A4%9C%E0%A4%BE%E0%A4%A4%E0%A4%BE%20%E0%A4%B9%E0%A5%88%2C%20%E0%A4%9C%E0%A4%AC%20%E0%A4%B5%E0%A5%8B%20%E0%A4%9C%E0%A4%BC%E0%A5%8D%E0%A4%AF%E0%A4%BE%E0%A4%A6%E0%A4%BE%20%E0%A4%96%E0%A5%8B%E0%A4%A1%E0%A4%BC%E0%A5%87%20%E0%A4%B9%E0%A5%8B%20%E0%A4%9C%E0%A4%BE%E0%A4%A4%E0%A4%BE%20%E0%A4%B9%E0%A5%88%2C%20%E0%A4%B5%E0%A5%8B%20%E0%A4%AA%E0%A4%B0%20%E0%A4%9C%E0%A4%BC%E0%A5%8D%E0%A4%AF%E0%A4%BE%E0%A4%A6%E0%A4%BE%20%E0%A4%96%E0%A5%8B%E0%A4%A1%E0%A4%BC%E0%A5%87%20%E0%A4%B9%E0%A5%8B%20%E0%A4%9C%E0%A4%BE%E0%A4%A4%E0%A4%BE%20%E0%A4%B9%E0%A5%88%E0%A5%A4%20%E0%A4%AA%E0%A4%B0%20%E0%A4%A8%E0%A4%BE%E0%A4%B8%20%E0%A4%8F%E0%A4%95%20%E0%A4%AC%E0%A4%BE%E0%A4%87%E0%A4%9F%20%E0%A4%B9%E0%A5%88%2C%20%E0%A4%B5%E0%A4%B9%20%E0%A4%AC%E0%A4%B9%E0%A5%81%E0%A4%A4%20%E0%A4%AC%E0%A4%BE%E0%A4%87%E0%A4%9F%20%E0%A4%B9%E0%A5%88%E0%A5%A4%20%E0%A4%A4%E0%A5%8B%20%E0%A4%B5%E0%A5%8B%20%E0%A4%AA%E0%A4%B0%20%E0%A4%9C%E0%A4%BC%E0%A5%8D%E0%A4%AF%E0%A4%BE%E0%A4%A6%E0%A4%BE%20%E0%A4%96%E0%A5%8B%E0%A4%A1%E0%A4%BC%E0%A5%87%20%E0%A4%B9%E0%A5%8B%20%E0%A4%9C%E0%A4%BE%E0%A4%A4%E0%A4%BE%20%E0%A4%B9%E0%A5%88%2C%20%E0%A4%B5%E0%A4%B9%20%E0%A4%AC%E0%A4%B9%E0%A5%81%E0%A4%A4%20%E0%A4%AC%E0%A4%BE%E0%A4%87%E0%A4%9F%20%E0%A4%B9%E0%A5%88%E0%A5%A4%20%E0%A4%A4%E0%A5%8B%20%E0%A4%B5%E0%A5%8B%20%E0%A4%AA%E0%A4%B0%20%E0%A4%9C%E0%A4%BC%E0%A5%8D%E0%A4%AF%E0%A4%BE%E0%A4%A6%E0%A4%BE%20%E0%A4%96%E0%A5%8B%E0%A4%A1%E0%A4%BC%E0%A5%87%20%E0%A4%B9%E0%A5%8B%20%E0%A4%9C%E0%A4%BE%E0%A4%A4%E0%A4%BE%20%E0%A4%B9%E0%A5%88%2C%20%E0%A4%B5%E0%A4%B9%20%E0%A4%AC%E0%A4%B9%E0%A5%81%E0%A4%A4%20%E0%A4%AC%E0%A4%BE%E0%A4%87%E0%A4%9F%20%E0%A4%B9%E0%A5%88%E0%A5%A4%20%E0%A4%A4%E0%A5%8B%20%E0%A4%B5%E0%A5%8B%20%E0%A4%AA%E0%A4%B0%20%E0%A4%9C%E0%A4%BC%E0%A5%8D%E0%A4%AF%E0%A4%BE%E0%A4%A6%E0%A4%BE%20%E0%A4%96%E0%A5%8B%E0%A4%A1%E0%A4%BC%E0%A5%87%20%E0%A4%B9%E0%A5%8B%20%E0%A4%9C%E0%A4%BE%E0%A4%A4%E0%A4%BE%20%E0%A4%B9%E0%A5%88%2C%20%E0%A4%B5%E0%A4%B9%20%E0%A4%AC%E0%A4%B9%E0%A5%81%E0%A4%A4%20%E0%A4%AC%E0%A4%BE%E0%A4%87%E0%A4%9F%20%E0%A4%B9%E0%A5%88%E0%A5%A4%20%E0%A4%A4%E0%A5%8B%20%E0%A4%B5%E0%A5%8B%20%E0%A4%AA%E0%A4%B0%20%E0%A4%9C%E0%A4%BC%E0%A5%8D%E0%A4%AF%E0%A4%BE%E0%A4%A6%E0%A4%BE%20%E0%A4%96%E0%A5%8B%E0%A4%A1%E0%A4%BC%E0%A5%87%20%E0%A4%B9%E0%A5%8B%20%E0%A4%9C%E0%A4%BE%E0%A4%A4%E0%A4%BE%20%E0%A4%B9%E0%A5%88%2C%20%E0%A4%B5%E0%A4%B9%20%E0%A4%AC%E0%A4%B9%E0%A5%81%E0%A4%A4%20%E0%A4%AC%E0%A4%BE%E0%A4%87%E0%A4%9F%20%E0%A4%B9%E0%A5%88%E0%A5%A4%20%E0%A4%A4%E0%A5%8B%20%E0%A4%B5%E0%A5%8B%20%E0%A4%AA%E0%A4%B0%20%E0%A4%9C%E0%A4%BC%E0%A5%8D%E0%A4%AF%E0%A4%BE%E0%A4%A6%E0%A4%BE%20%E0%A4%96%E0%A5%8B%E0%A4%A1%E0%A4%BC%E0%A5%87%20%E0%A4%B9%E0%A5%8B%20%E0%A4%9C%E0%A4%BE%E0%A4%A4%E0%A4%BE%20%E0%A4%B9%E0%A5%88%2C%20%E0%A4%B5%E0%A4%B9%20%E0%A4%AC%E0%A4%B9%E0%A5%81%E0%A4%A4%20%E0%A4%AC%E0%A4%BE%E0%A4%87%E0%A4%9F%20%E0%A4%B9%E0%A5%88%E0%A5%A4%20%E0%A4%A4%E0%A5%8B%20%E0%A4%B5%E0%A5%8B%20%E0%A4%AA%E0%A4%B0%20%E0%A4%9C%E0%A4%BC%E0%A5%8D%E0%A4%AF%E0%A4%BE%E0%A4%A6%E0%A4%BE%20%E0%A4%96%E0%A5%8B%E0%A4%A1%E0%A4%BC%E0%A5%87%20%E0%A4%B9%E0%A5%8B%20%E0%A4%9C%E0%A4%BE%E0%A4%A4%E0%A4%BE%20%E0%A4%B9%E0%A5%88%2C%20%E0%A4%B5%E0%A4%B9%20%E0%A4%AC%E0%A4%B9%E0%A5%81%E0%A4%A4%20%E0%A4%AC%E0%A4%BE%E0%A4%87%E0%A4%9F%20%E0%A4%B9%E0%A5%88%E0%A5%A4%20%E0%A4%A4%E0%A5%8B%20%E0%A4%B5%E0%A5%8B%20%E0%A4%AA%E0%A4%B0%20%E0%A4%9C%E0%A4%BC%E0%A5%8D%E0%A4%AF%E0%A4%BE%E0%A4%A6%E0%A4%BE%20%E0%A4%96%E0%A5%8B%E0%A4%A1%E0%A4%BC%E0%A5%87%20%E0%A4%B9%E0%A5%8B%20%E0%A4%9C%E0%A4%BE%E0%A4%A4%E0%A4%BE%20%E0%A4%B9%E0%A5%88%2C%20%E0%A4%B5%E0%A4%B9%20%E0%A4%AC%E0%A4%B9%E0%A5%81%E0%A4%A4%20%E0%A4%AC%E0%A4%BE%E0%A4%87%E0%A4%9F%20%E0%A4%B9%E0%A5%88%E0%A5%A4%20%E0%A4%AA%E0%A5%8D%E0%A4%B0%E0%A4%B8%E0%A5%8D%E0%A4%A4%E0%A5%81%E0%A4%B5%E0%A4%BE%E0%A4%A6%20%E0%A4%96%E0%A5%8B%E0%A4%A1%E0%A4%BC%E0%A5%87%20%E0%A4%B9%E0%A5%8B%20%E0%A4%9C%E0%A4%BE%E0%A4%A4%E0%A4%BE%20%E0%A4%B9%E0%A5%88%2C%20%E0%A4%B5%E0%A4%B9%20%E0%A4%AC%E0%A4%B9%E0%A5%81%E0%A4%A4%20%E0%A4%AC%E0%A4%BE%E0%A4%87%E0%A4%9F%20%E0%A4%B9%E0%A5%88%E0%A5%A4&op=translate'\n",
            "[Errno 36] File name too long: '81533,https:/translate.google.ca/?sl=auto&tl=hi&text=%E0%A4%85%E0%A4%A8%E0%A5%81%20%E0%A4%AD%E0%A5%80%20%E0%A4%9C%E0%A5%8D%E0%A4%AF%E0%A4%BE%E0%A4%9C%E0%A4%BE%2C%20%E0%A4%86%E0%A4%A8%E0%A4%B0%E0%A4%BE%20%E0%A4%AD%E0%A5%80%20%E0%A4%9C%E0%A5%8D%E0%A4%AF%E0%A4%BE%E0%A4%9C%E0%A4%BE%2C%20%E0%A4%AE%E0%A5%80%E0%A4%9F%E0%A4%BF%E0%A4%82%E0%A4%97%20%E0%A4%A6%E0%A5%87%E0%A4%96%E0%A4%A8%E0%A5%87%2C%20%E0%A4%B9%E0%A4%AE%E0%A4%BE%E0%A4%B0%E0%A5%8D%E0%A4%95%E0%A4%BE%20%E0%A4%B5%E0%A4%BE%E0%A4%B0%E0%A5%8D%E0%A4%A1%E0%A4%BC%20%E0%A4%AC%E0%A5%81%E0%A4%9C%E0%A4%9C%E0%A5%80%E0%A4%9A%20%E0%A4%AD%E0%A5%81%E0%A4%9C%E0%A4%BF%E0%A4%8F%E0%A4%82%20%E0%A4%A6%E0%A5%87%E0%A4%96%E0%A4%A8%E0%A5%87%20%E0%A4%AC%E0%A5%81%E0%A4%9C%E0%A4%9C%E0%A5%80%E0%A4%9A%20%E0%A4%B5%E0%A5%8B%20%E0%A4%85%E0%A4%AA%E0%A4%A8%E0%A5%87%20%E0%A4%AA%E0%A4%B0%20%E0%A4%AC%E0%A4%A4%E0%A4%BE%20%E0%A4%B9%E0%A5%88%2C%20%E0%A4%AE%E0%A5%88%E0%A4%82%20%E0%A4%B5%E0%A5%8B%20%E0%A4%AC%E0%A4%9A%E0%A4%BE%20%E0%A4%B9%E0%A5%82%E0%A4%81%2C%20%E0%A4%AE%E0%A5%88%E0%A4%82%20%E0%A4%B5%E0%A5%8B%20%E0%A4%AC%E0%A4%9A%E0%A4%BE%20%E0%A4%B9%E0%A5%82%E0%A4%81%2C%20%E0%A4%AE%E0%A5%88%E0%A4%82%20%E0%A4%B5%E0%A5%8B%20%E0%A4%AC%E0%A4%9A%E0%A4%BE%20%E0%A4%B9%E0%A5%82%E0%A4%81%20%E0%A4%85%E0%A4%97%E0%A4%B0%20%E0%A4%B5%E0%A5%8B%20%E0%A4%AC%E0%A4%9A%E0%A4%BE%20%E0%A4%B9%E0%A5%88%2C%20%E0%A4%A4%E0%A5%8B%20%E0%A4%AF%E0%A4%B9%20%E0%A4%AA%E0%A4%B0%20%E0%A4%AA%E0%A4%B0%20%E0%A4%A6%E0%A5%87%E0%A4%96%E0%A4%A8%E0%A5%87%20%E0%A4%95%E0%A5%87%20%E0%A4%B2%E0%A4%BF%E0%A4%8F%20%E0%A4%A8%E0%A4%B9%E0%A5%80%E0%A4%82%20%E0%A4%B9%E0%A5%88%2C%20%E0%A4%85%E0%A4%97%E0%A4%B0%20%E0%A4%B5%E0%A5%8B%20%E0%A4%AC%E0%A4%9A%E0%A4%BE%20%E0%A4%B9%E0%A5%88%2C%20%E0%A4%A4%E0%A5%8B%20%E0%A4%AF%E0%A4%B9%20%E0%A4%AA%E0%A4%B0%20%E0%A4%AC%E0%A4%9A%E0%A4%BE%20%E0%A4%B9%E0%A5%88%2C%20%E0%A4%85%E0%A4%97%E0%A4%B0%20%E0%A4%B5%E0%A5%8B%20%E0%A4%AC%E0%A4%9A%E0%A4%BE%20%E0%A4%B9%E0%A5%88%2C%20%E0%A4%A4%E0%A5%8B%20%E0%A4%AF%E0%A4%B9%20%E0%A4%AA%E0%A4%B0%20%E0%A4%AC%E0%A4%9A%E0%A4%BE%20%E0%A4%B9%E0%A5%88%2C%20%E0%A4%A4%E0%A5%8B%20%E0%A4%AF%E0%A4%B9%20%E0%A4%AA%E0%A4%B0%20%E0%A4%AC%E0%A4%9A%E0%A4%BE%20%E0%A4%B9%E0%A5%88%2C%20%E0%A4%A4%E0%A5%8B%20%E0%A4%AF%E0%A4%B9%20%E0%A4%AA%E0%A4%B0%20%E0%A4%AC%E0%A4%9A%E0%A4%BE%20%E0%A4%B9%E0%A5%88%2C%20%E0%A4%A4%E0%A5%8B%20%E0%A4%AF%E0%A4%B9%20%E0%A4%AA%E0%A4%B0%20%E0%A4%AC%E0%A4%9A%E0%A4%BE%20%E0%A4%B9%E0%A5%88%2C%20%E0%A4%A4%E0%A5%8B%20%E0%A4%AF%E0%A4%B9%20%E0%A4%AA%E0%A4%B0%20%E0%A4%AC%E0%A4%9A%E0%A4%BE%20%E0%A4%B9%E0%A5%88%2C%20%E0%A4%A4%E0%A5%8B%20%E0%A4%AF%E0%A4%B9%20%E0%A4%AA%E0%A4%B0%20%E0%A4%AC%E0%A4%9A%E0%A4%BE%20%E0%A4%B9%E0%A5%88%2C%20%E0%A4%A4%E0%A5%8B%20%E0%A4%AF%E0%A4%B9%20%E0%A4%AA%E0%A4%B0%20%E0%A4%AC%E0%A4%9A%E0%A4%BE%20%E0%A4%B9%E0%A5%88%2C%20%E0%A4%A4%E0%A5%8B%20%E0%A4%AF%20%E0%A4%95%E0%A5%8D%E0%A4%B7%E0%A4%BF%E0%A4%A8%E0%A4%95%E0%A5%8B%20%E0%A4%AD%E0%A5%80%20%E0%A4%AA%E0%A4%B9%E0%A4%B2%E0%A5%87%20%E0%A4%AC%E0%A5%8B%E0%A4%B2%E0%A5%87%20%E0%A4%86%E0%A4%97%E0%A4%B0%20%E0%A4%B5%E0%A5%8B%20%E0%A4%AC%E0%A4%9A%E0%A4%BE%20%E0%A4%B9%E0%A5%88%2C%20%E0%A4%A4%E0%A5%8B%20%E0%A4%AF%E0%A4%B9%20%E0%A4%AA%E0%A4%B0%20%E0%A4%AC%E0%A4%9A%E0%A4%BE%20%E0%A4%B9%E0%A5%88%2C%20%E0%A4%A4%E0%A5%8B%20%E0%A4%AF%E0%A4%B9%20%E0%A4%AA%E0%A4%B0%20%E0%A4%AC%E0%A4%9A%E0%A4%BE%20%E0%A4%B9%E0%A5%88%2C%20%E0%A4%A4%E0%A5%8B%20%E0%A4%AF%E0%A4%B9%20%E0%A4%AA%E0%A4%B0%20%E0%A4%AC%E0%A4%9A%E0%A4%BE%20%E0%A4%B9%E0%A5%88%2C%20%E0%A4%A4%E0%A5%8B%20%E0%A4%AF%E0%A4%B9%20%E0%A4%AA%E0%A4%B0%20%E0%A4%AC%E0%A4%9A%E0%A4%BE%20%E0%A4%B9%E0%A5%88%2C%20%E0%A4%A4%E0%A5%8B%20%E0%A4%AF%E0%A4%B9%20%E0%A4%AA%E0%A4%B0%20%E0%A4%AC%E0%A4%9A%E0%A4%BE%20%E0%A4%B9%E0%A5%88%2C%20%E0%A4%A4%E0%A5%8B%20%E0%A4%AF%E0%A4%B9%20%E0%A4%AA%E0%A4%B9%E0%A4%B2%E0%A5%87%20%E0%A4%AC%E0%A5%8B%E0%A4%B2%E0%A5%87%20%E0%A4%AA%E0%A5%8B%E0%A4%B2%E0%A5%87%20%E0%A4%AC%E0%A5%8B%E0%A4%B2%E0%A5%87%20%E0%A4%AC%E0%A4%9A%E0%A4%BE%20%E0%A4%B9%E0%A5%88%2C%20%E0%A4%A4%E0%A5%8B%20%E0%A4%AF%E0%A4%B9%20%E0%A4%AA%E0%A4%B0%20%E0%A4%AC%E0%A4%9A%E0%A4%BE%20%E0%A4%B9%E0%A5%88%2C%20%E0%A4%A4%E0%A5%8B%20%E0%A4%AF%E0%A4%B9%20%E0%A4%AA%E0%A4%B0%20%E0%A4%AC%E0%A4%9A%E0%A4%BE%20%E0%A4%B9%E0%A5%88%20%E0%A4%A4%E0%A5%8B%20%E0%A4%AF%E0%A4%B9%20%E0%A4%AA%E0%A4%B9%E0%A4%B2%E0%A5%87%20%E0%A4%AC%E0%A5%8B%E0%A4%B2%E0%A5%87%20%EF%BF%BD%20%E0%A4%86%E0%A4%AA%20%E0%A4%96%E0%A5%81%E0%A4%B2%E0%A4%BE%20%E0%A4%AA%E0%A4%B0%20%E0%A4%87%E0%A4%B8%E0%A5%87%20%E0%A4%AC%E0%A4%BE%E0%A4%A4%20%E0%A4%A6%E0%A5%87%E0%A4%82%E0%A4%97%E0%A5%87%2C%20%E0%A4%AF%E0%A5%87%20%E0%A4%AA%E0%A4%B0%20%E0%A4%AA%E0%A4%A1%E0%A4%BC%E0%A4%BE%20%E0%A4%A6%E0%A5%87%E0%A4%82%E0%A4%97%E0%A5%87%20%E0%A4%B8%E0%A5%87%20%E0%A4%AA%E0%A4%B0%20%E0%A4%AA%E0%A5%8D%E0%A4%B0%E0%A4%B8%E0%A4%BE%E0%A4%B0%E0%A4%BE%20%E0%A4%B9%E0%A5%88%20%E0%A4%AA%E0%A4%B0%20%E0%A4%AA%E0%A4%B0%20%E0%A4%AA%E0%A5%8D%E0%A4%B0%E0%A4%B8%E0%A4%BE%E0%A4%B0%E0%A4%BE%20%E0%A4%A8%E0%A4%B9%E0%A5%80%E0%A4%82%20%E0%A4%B9%E0%A5%8B%20%E0%A4%97%E0%A4%AF%E0%A4%BE%2C%20%E0%A4%86%E0%A4%AA%20%E0%A4%9C%E0%A4%AC%20%E0%A4%AA%E0%A5%8D%E0%A4%B0%E0%A4%B8%E0%A4%BE%E0%A4%B0%E0%A4%BE%20%E0%A4%A8%E0%A4%B9%E0%A5%80%E0%A4%82%20%E0%A4%B2%E0%A5%87%E0%A4%82%E0%A4%97%E0%A5%87%20%E0%A4%A4%E0%A5%8B%20%E0%A4%85%E0%A4%AA%E0%A4%A8%E0%A5%87%20%E0%A4%B8%E0%A4%BE%E0%A4%A5%20%E0%A4%AA%E0%A4%B0%20%E0%A4%AA%E0%A5%8D%E0%A4%B0%E0%A4%B8%E0%A4%BE%E0%A4%B0%E0%A4%BE%20%E0%A4%A8%E0%A4%B9%E0%A5%80%E0%A4%82%20%E0%A4%B2%E0%A5%87%E0%A4%82%E0%A4%97%E0%A5%87%20%E0%A4%86%E0%A4%AA%E0%A4%95%E0%A5%8B%20%E0%A4%85%E0%A4%AA%E0%A4%A8%E0%A5%87%20%E0%A4%B8%E0%A4%BE%E0%A4%A5%20%E0%A4%AA%E0%A4%B0%20%E0%A4%AA%E0%A5%8D%E0%A4%B0%E0%A4%B8%E0%A4%BE%E0%A4%B0%E0%A4%BE%20%E0%A4%A8%E0%A4%B9%E0%A5%80%E0%A4%82%20%E0%A4%B2%E0%A5%87%E0%A4%82%E0%A4%97%E0%A5%87%2C%20%E0%A4%86%E0%A4%AA%E0%A4%95%E0%A5%8B%20%E0%A4%85%E0%A4%AA%E0%A4%A8%E0%A5%87%20%E0%A4%B8%E0%A4%BE%E0%A4%A5%20%E0%A4%AA%E0%A4%B0%20%E0%A4%AA%E0%A5%8D%E0%A4%B0%E0%A4%B8%E0%A4%BE%E0%A4%B0%E0%A4%BE%20%E0%A4%A8%E0%A4%B9%E0%A5%80%E0%A4%82%20%E0%A4%B2%E0%A5%87%E0%A4%82%E0%A4%97%E0%A5%87%20%E0%A4%AF%E0%A5%87%20%E0%A4%AA%E0%A4%B0%E0%A4%B8%E0%A4%BE%E0%A4%B0%E0%A4%BE%20%E0%A4%A8%E0%A4%B9%E0%A5%80%E0%A4%82%20%E0%A4%B9%E0%A5%8B%20%E0%A4%97%E0%A4%AF%E0%A4%BE%2C%20%E0%A4%86%E0%A4%AA%E0%A4%95%E0%A5%8B%20%E0%A4%85%E0%A4%AA%E0%A4%A8%E0%A5%87%20%E0%A4%B8%E0%A4%BE%E0%A4%A5%20%E0%A4%AA%E0%A4%B0%20%E0%A4%AA%E0%A5%8D%E0%A4%B0%E0%A4%B8%E0%A4%BE%E0%A4%B0%E0%A4%BE%20%E0%A4%A8%E0%A4%B9%E0%A5%80%E0%A4%82%20%E0%A4%B2%E0%A5%87%E0%A4%82%E0%A4%97%E0%A5%87&op=translate'\n",
            "[Errno 36] File name too long: '81607,https:/translate.google.ca/?sl=en&tl=hi&text=%E0%A4%85%E0%A4%A8%E0%A5%81%20%E0%A4%AD%E0%A5%80%20%E0%A4%9C%E0%A5%8D%E0%A4%AF%E0%A4%BE%E0%A4%9C%E0%A4%BE%2C%20%E0%A4%86%E0%A4%A8%E0%A4%B0%E0%A4%BE%20%E0%A4%AD%E0%A5%80%20%E0%A4%9C%E0%A5%8D%E0%A4%AF%E0%A4%BE%E0%A4%9C%E0%A4%BE%2C%20%E0%A4%AE%E0%A5%80%E0%A4%9F%E0%A4%BF%E0%A4%82%E0%A4%97%20%E0%A4%A6%E0%A5%87%E0%A4%96%E0%A4%A8%E0%A5%87%2C%20%E0%A4%B9%E0%A4%AE%E0%A4%BE%E0%A4%B0%E0%A5%8D%E0%A4%95%E0%A4%BE%20%E0%A4%B5%E0%A4%BE%E0%A4%B0%E0%A5%8D%E0%A4%A1%E0%A4%BC%20%E0%A4%AC%E0%A5%81%E0%A4%9C%E0%A4%9C%E0%A5%80%E0%A4%9A%20%E0%A4%AD%E0%A5%81%E0%A4%9C%E0%A4%BF%E0%A4%8F%E0%A4%82%20%E0%A4%A6%E0%A5%87%E0%A4%96%E0%A4%A8%E0%A5%87%20%E0%A4%AC%E0%A5%81%E0%A4%9C%E0%A4%9C%E0%A5%80%E0%A4%9A%20%E0%A4%B5%E0%A5%8B%20%E0%A4%85%E0%A4%AA%E0%A4%A8%E0%A5%87%20%E0%A4%AA%E0%A4%B0%20%E0%A4%AC%E0%A4%A4%E0%A4%BE%20%E0%A4%B9%E0%A5%88%2C%20%E0%A4%AE%E0%A5%88%E0%A4%82%20%E0%A4%B5%E0%A5%8B%20%E0%A4%AC%E0%A4%9A%E0%A4%BE%20%E0%A4%B9%E0%A5%82%E0%A4%81%2C%20%E0%A4%AE%E0%A5%88%E0%A4%82%20%E0%A4%B5%E0%A5%8B%20%E0%A4%AC%E0%A4%9A%E0%A4%BE%20%E0%A4%B9%E0%A5%82%E0%A4%81%2C%20%E0%A4%AE%E0%A5%88%E0%A4%82%20%E0%A4%B5%E0%A5%8B%20%E0%A4%AC%E0%A4%9A%E0%A4%BE%20%E0%A4%B9%E0%A5%82%E0%A4%81%20%E0%A4%85%E0%A4%97%E0%A4%B0%20%E0%A4%B5%E0%A5%8B%20%E0%A4%AC%E0%A4%9A%E0%A4%BE%20%E0%A4%B9%E0%A5%88%2C%20%E0%A4%A4%E0%A5%8B%20%E0%A4%AF%E0%A4%B9%20%E0%A4%AA%E0%A4%B0%20%E0%A4%AA%E0%A4%B0%20%E0%A4%A6%E0%A5%87%E0%A4%96%E0%A4%A8%E0%A5%87%20%E0%A4%95%E0%A5%87%20%E0%A4%B2%E0%A4%BF%E0%A4%8F%20%E0%A4%A8%E0%A4%B9%E0%A5%80%E0%A4%82%20%E0%A4%B9%E0%A5%88%2C%20%E0%A4%85%E0%A4%97%E0%A4%B0%20%E0%A4%B5%E0%A5%8B%20%E0%A4%AC%E0%A4%9A%E0%A4%BE%20%E0%A4%B9%E0%A5%88%2C%20%E0%A4%A4%E0%A5%8B%20%E0%A4%AF%E0%A4%B9%20%E0%A4%AA%E0%A4%B0%20%E0%A4%AC%E0%A4%9A%E0%A4%BE%20%E0%A4%B9%E0%A5%88%2C%20%E0%A4%85%E0%A4%97%E0%A4%B0%20%E0%A4%B5%E0%A5%8B%20%E0%A4%AC%E0%A4%9A%E0%A4%BE%20%E0%A4%B9%E0%A5%88%2C%20%E0%A4%A4%E0%A5%8B%20%E0%A4%AF%E0%A4%B9%20%E0%A4%AA%E0%A4%B0%20%E0%A4%AC%E0%A4%9A%E0%A4%BE%20%E0%A4%B9%E0%A5%88%2C%20%E0%A4%A4%E0%A5%8B%20%E0%A4%AF%E0%A4%B9%20%E0%A4%AA%E0%A4%B0%20%E0%A4%AC%E0%A4%9A%E0%A4%BE%20%E0%A4%B9%E0%A5%88%2C%20%E0%A4%A4%E0%A5%8B%20%E0%A4%AF%E0%A4%B9%20%E0%A4%AA%E0%A4%B0%20%E0%A4%AC%E0%A4%9A%E0%A4%BE%20%E0%A4%B9%E0%A5%88%2C%20%E0%A4%A4%E0%A5%8B%20%E0%A4%AF%E0%A4%B9%20%E0%A4%AA%E0%A4%B0%20%E0%A4%AC%E0%A4%9A%E0%A4%BE%20%E0%A4%B9%E0%A5%88%2C%20%E0%A4%A4%E0%A5%8B%20%E0%A4%AF%E0%A4%B9%20%E0%A4%AA%E0%A4%B0%20%E0%A4%AC%E0%A4%9A%E0%A4%BE%20%E0%A4%B9%E0%A5%88%2C%20%E0%A4%A4%E0%A5%8B%20%E0%A4%AF%E0%A4%B9%20%E0%A4%AA%E0%A4%B0%20%E0%A4%AC%E0%A4%9A%E0%A4%BE%20%E0%A4%B9%E0%A5%88%2C%20%E0%A4%A4%E0%A5%8B%20%E0%A4%AF%E0%A4%B9%20%E0%A4%AA%E0%A4%B0%20%E0%A4%AC%E0%A4%9A%E0%A4%BE%20%E0%A4%B9%E0%A5%88%2C%20%E0%A4%A4%E0%A5%8B%20%E0%A4%AF%20%E0%A4%95%E0%A5%8D%E0%A4%B7%E0%A4%BF%E0%A4%A8%E0%A4%95%E0%A5%8B%20%E0%A4%AD%E0%A5%80%20%E0%A4%AA%E0%A4%B9%E0%A4%B2%E0%A5%87%20%E0%A4%AC%E0%A5%8B%E0%A4%B2%E0%A5%87%20%E0%A4%86%E0%A4%97%E0%A4%B0%20%E0%A4%B5%E0%A5%8B%20%E0%A4%AC%E0%A4%9A%E0%A4%BE%20%E0%A4%B9%E0%A5%88%2C%20%E0%A4%A4%E0%A5%8B%20%E0%A4%AF%E0%A4%B9%20%E0%A4%AA%E0%A4%B0%20%E0%A4%AC%E0%A4%9A%E0%A4%BE%20%E0%A4%B9%E0%A5%88%2C%20%E0%A4%A4%E0%A5%8B%20%E0%A4%AF%E0%A4%B9%20%E0%A4%AA%E0%A4%B0%20%E0%A4%AC%E0%A4%9A%E0%A4%BE%20%E0%A4%B9%E0%A5%88%2C%20%E0%A4%A4%E0%A5%8B%20%E0%A4%AF%E0%A4%B9%20%E0%A4%AA%E0%A4%B0%20%E0%A4%AC%E0%A4%9A%E0%A4%BE%20%E0%A4%B9%E0%A5%88%2C%20%E0%A4%A4%E0%A5%8B%20%E0%A4%AF%E0%A4%B9%20%E0%A4%AA%E0%A4%B0%20%E0%A4%AC%E0%A4%9A%E0%A4%BE%20%E0%A4%B9%E0%A5%88%2C%20%E0%A4%A4%E0%A5%8B%20%E0%A4%AF%E0%A4%B9%20%E0%A4%AA%E0%A4%B0%20%E0%A4%AC%E0%A4%9A%E0%A4%BE%20%E0%A4%B9%E0%A5%88%2C%20%E0%A4%A4%E0%A5%8B%20%E0%A4%AF%E0%A4%B9%20%E0%A4%AA%E0%A4%B9%E0%A4%B2%E0%A5%87%20%E0%A4%AC%E0%A5%8B%E0%A4%B2%E0%A5%87%20%E0%A4%AA%E0%A5%8B%E0%A4%B2%E0%A5%87%20%E0%A4%AC%E0%A5%8B%E0%A4%B2%E0%A5%87%20%E0%A4%AC%E0%A4%9A%E0%A4%BE%20%E0%A4%B9%E0%A5%88%2C%20%E0%A4%A4%E0%A5%8B%20%E0%A4%AF%E0%A4%B9%20%E0%A4%AA%E0%A4%B0%20%E0%A4%AC%E0%A4%9A%E0%A4%BE%20%E0%A4%B9%E0%A5%88%2C%20%E0%A4%A4%E0%A5%8B%20%E0%A4%AF%E0%A4%B9%20%E0%A4%AA%E0%A4%B0%20%E0%A4%AC%E0%A4%9A%E0%A4%BE%20%E0%A4%B9%E0%A5%88%20%E0%A4%A4%E0%A5%8B%20%E0%A4%AF%E0%A4%B9%20%E0%A4%AA%E0%A4%B9%E0%A4%B2%E0%A5%87%20%E0%A4%AC%E0%A5%8B%E0%A4%B2%E0%A5%87%20%EF%BF%BD%20%E0%A4%86%E0%A4%AA%20%E0%A4%96%E0%A5%81%E0%A4%B2%E0%A4%BE%20%E0%A4%AA%E0%A4%B0%20%E0%A4%87%E0%A4%B8%E0%A5%87%20%E0%A4%AC%E0%A4%BE%E0%A4%A4%20%E0%A4%A6%E0%A5%87%E0%A4%82%E0%A4%97%E0%A5%87%2C%20%E0%A4%AF%E0%A5%87%20%E0%A4%AA%E0%A4%B0%20%E0%A4%AA%E0%A4%A1%E0%A4%BC%E0%A4%BE%20%E0%A4%A6%E0%A5%87%E0%A4%82%E0%A4%97%E0%A5%87%20%E0%A4%B8%E0%A5%87%20%E0%A4%AA%E0%A4%B0%20%E0%A4%AA%E0%A5%8D%E0%A4%B0%E0%A4%B8%E0%A4%BE%E0%A4%B0%E0%A4%BE%20%E0%A4%B9%E0%A5%88%20%E0%A4%AA%E0%A4%B0%20%E0%A4%AA%E0%A4%B0%20%E0%A4%AA%E0%A5%8D%E0%A4%B0%E0%A4%B8%E0%A4%BE%E0%A4%B0%E0%A4%BE%20%E0%A4%A8%E0%A4%B9%E0%A5%80%E0%A4%82%20%E0%A4%B9%E0%A5%8B%20%E0%A4%97%E0%A4%AF%E0%A4%BE%2C%20%E0%A4%86%E0%A4%AA%20%E0%A4%9C%E0%A4%AC%20%E0%A4%AA%E0%A5%8D%E0%A4%B0%E0%A4%B8%E0%A4%BE%E0%A4%B0%E0%A4%BE%20%E0%A4%A8%E0%A4%B9%E0%A5%80%E0%A4%82%20%E0%A4%B2%E0%A5%87%E0%A4%82%E0%A4%97%E0%A5%87%20%E0%A4%A4%E0%A5%8B%20%E0%A4%85%E0%A4%AA%E0%A4%A8%E0%A5%87%20%E0%A4%B8%E0%A4%BE%E0%A4%A5%20%E0%A4%AA%E0%A4%B0%20%E0%A4%AA%E0%A5%8D%E0%A4%B0%E0%A4%B8%E0%A4%BE%E0%A4%B0%E0%A4%BE%20%E0%A4%A8%E0%A4%B9%E0%A5%80%E0%A4%82%20%E0%A4%B2%E0%A5%87%E0%A4%82%E0%A4%97%E0%A5%87%20%E0%A4%86%E0%A4%AA%E0%A4%95%E0%A5%8B%20%E0%A4%85%E0%A4%AA%E0%A4%A8%E0%A5%87%20%E0%A4%B8%E0%A4%BE%E0%A4%A5%20%E0%A4%AA%E0%A4%B0%20%E0%A4%AA%E0%A5%8D%E0%A4%B0%E0%A4%B8%E0%A4%BE%E0%A4%B0%E0%A4%BE%20%E0%A4%A8%E0%A4%B9%E0%A5%80%E0%A4%82%20%E0%A4%B2%E0%A5%87%E0%A4%82%E0%A4%97%E0%A5%87%2C%20%E0%A4%86%E0%A4%AA%E0%A4%95%E0%A5%8B%20%E0%A4%85%E0%A4%AA%E0%A4%A8%E0%A5%87%20%E0%A4%B8%E0%A4%BE%E0%A4%A5%20%E0%A4%AA%E0%A4%B0%20%E0%A4%AA%E0%A5%8D%E0%A4%B0%E0%A4%B8%E0%A4%BE%E0%A4%B0%E0%A4%BE%20%E0%A4%A8%E0%A4%B9%E0%A5%80%E0%A4%82%20%E0%A4%B2%E0%A5%87%E0%A4%82%E0%A4%97%E0%A5%87%20%E0%A4%AF%E0%A5%87%20%E0%A4%AA%E0%A4%B0%E0%A4%B8%E0%A4%BE%E0%A4%B0%E0%A4%BE%20%E0%A4%A8%E0%A4%B9%E0%A5%80%E0%A4%82%20%E0%A4%B9%E0%A5%8B%20%E0%A4%97%E0%A4%AF%E0%A4%BE%2C%20%E0%A4%86%E0%A4%AA%E0%A4%95%E0%A5%8B%20%E0%A4%85%E0%A4%AA%E0%A4%A8%E0%A5%87%20%E0%A4%B8%E0%A4%BE%E0%A4%A5%20%E0%A4%AA%E0%A4%B0%20%E0%A4%AA%E0%A5%8D%E0%A4%B0%E0%A4%B8%E0%A4%BE%E0%A4%B0%E0%A4%BE%20%E0%A4%A8%E0%A4%B9%E0%A5%80%E0%A4%82%20%E0%A4%B2%E0%A5%87%E0%A4%82%E0%A4%97%E0%A5%87&op=translate'\n",
            "[Errno 36] File name too long: '81686,https:/translate.google.ca/?sl=or&tl=en&text=%E0%A4%85%E0%A4%A8%E0%A5%81%20%E0%A4%AD%E0%A5%80%20%E0%A4%9C%E0%A5%8D%E0%A4%AF%E0%A4%BE%E0%A4%9C%E0%A4%BE%2C%20%E0%A4%86%E0%A4%A8%E0%A4%B0%E0%A4%BE%20%E0%A4%AD%E0%A5%80%20%E0%A4%9C%E0%A5%8D%E0%A4%AF%E0%A4%BE%E0%A4%9C%E0%A4%BE%2C%20%E0%A4%AE%E0%A5%80%E0%A4%9F%E0%A4%BF%E0%A4%82%E0%A4%97%20%E0%A4%A6%E0%A5%87%E0%A4%96%E0%A4%A8%E0%A5%87%2C%20%E0%A4%B9%E0%A4%AE%E0%A4%BE%E0%A4%B0%E0%A5%8D%E0%A4%95%E0%A4%BE%20%E0%A4%B5%E0%A4%BE%E0%A4%B0%E0%A5%8D%E0%A4%A1%E0%A4%BC%20%E0%A4%AC%E0%A5%81%E0%A4%9C%E0%A4%9C%E0%A5%80%E0%A4%9A%20%E0%A4%AD%E0%A5%81%E0%A4%9C%E0%A4%BF%E0%A4%8F%E0%A4%82%20%E0%A4%A6%E0%A5%87%E0%A4%96%E0%A4%A8%E0%A5%87%20%E0%A4%AC%E0%A5%81%E0%A4%9C%E0%A4%9C%E0%A5%80%E0%A4%9A%20%E0%A4%B5%E0%A5%8B%20%E0%A4%85%E0%A4%AA%E0%A4%A8%E0%A5%87%20%E0%A4%AA%E0%A4%B0%20%E0%A4%AC%E0%A4%A4%E0%A4%BE%20%E0%A4%B9%E0%A5%88%2C%20%E0%A4%AE%E0%A5%88%E0%A4%82%20%E0%A4%B5%E0%A5%8B%20%E0%A4%AC%E0%A4%9A%E0%A4%BE%20%E0%A4%B9%E0%A5%82%E0%A4%81%2C%20%E0%A4%AE%E0%A5%88%E0%A4%82%20%E0%A4%B5%E0%A5%8B%20%E0%A4%AC%E0%A4%9A%E0%A4%BE%20%E0%A4%B9%E0%A5%82%E0%A4%81%2C%20%E0%A4%AE%E0%A5%88%E0%A4%82%20%E0%A4%B5%E0%A5%8B%20%E0%A4%AC%E0%A4%9A%E0%A4%BE%20%E0%A4%B9%E0%A5%82%E0%A4%81%20%E0%A4%85%E0%A4%97%E0%A4%B0%20%E0%A4%B5%E0%A5%8B%20%E0%A4%AC%E0%A4%9A%E0%A4%BE%20%E0%A4%B9%E0%A5%88%2C%20%E0%A4%A4%E0%A5%8B%20%E0%A4%AF%E0%A4%B9%20%E0%A4%AA%E0%A4%B0%20%E0%A4%AA%E0%A4%B0%20%E0%A4%A6%E0%A5%87%E0%A4%96%E0%A4%A8%E0%A5%87%20%E0%A4%95%E0%A5%87%20%E0%A4%B2%E0%A4%BF%E0%A4%8F%20%E0%A4%A8%E0%A4%B9%E0%A5%80%E0%A4%82%20%E0%A4%B9%E0%A5%88%2C%20%E0%A4%85%E0%A4%97%E0%A4%B0%20%E0%A4%B5%E0%A5%8B%20%E0%A4%AC%E0%A4%9A%E0%A4%BE%20%E0%A4%B9%E0%A5%88%2C%20%E0%A4%A4%E0%A5%8B%20%E0%A4%AF%E0%A4%B9%20%E0%A4%AA%E0%A4%B0%20%E0%A4%AC%E0%A4%9A%E0%A4%BE%20%E0%A4%B9%E0%A5%88%2C%20%E0%A4%85%E0%A4%97%E0%A4%B0%20%E0%A4%B5%E0%A5%8B%20%E0%A4%AC%E0%A4%9A%E0%A4%BE%20%E0%A4%B9%E0%A5%88%2C%20%E0%A4%A4%E0%A5%8B%20%E0%A4%AF%E0%A4%B9%20%E0%A4%AA%E0%A4%B0%20%E0%A4%AC%E0%A4%9A%E0%A4%BE%20%E0%A4%B9%E0%A5%88%2C%20%E0%A4%A4%E0%A5%8B%20%E0%A4%AF%E0%A4%B9%20%E0%A4%AA%E0%A4%B0%20%E0%A4%AC%E0%A4%9A%E0%A4%BE%20%E0%A4%B9%E0%A5%88%2C%20%E0%A4%A4%E0%A5%8B%20%E0%A4%AF%E0%A4%B9%20%E0%A4%AA%E0%A4%B0%20%E0%A4%AC%E0%A4%9A%E0%A4%BE%20%E0%A4%B9%E0%A5%88%2C%20%E0%A4%A4%E0%A5%8B%20%E0%A4%AF%E0%A4%B9%20%E0%A4%AA%E0%A4%B0%20%E0%A4%AC%E0%A4%9A%E0%A4%BE%20%E0%A4%B9%E0%A5%88%2C%20%E0%A4%A4%E0%A5%8B%20%E0%A4%AF%E0%A4%B9%20%E0%A4%AA%E0%A4%B0%20%E0%A4%AC%E0%A4%9A%E0%A4%BE%20%E0%A4%B9%E0%A5%88%2C%20%E0%A4%A4%E0%A5%8B%20%E0%A4%AF%E0%A4%B9%20%E0%A4%AA%E0%A4%B0%20%E0%A4%AC%E0%A4%9A%E0%A4%BE%20%E0%A4%B9%E0%A5%88%2C%20%E0%A4%A4%E0%A5%8B%20%E0%A4%AF%E0%A4%B9%20%E0%A4%AA%E0%A4%B0%20%E0%A4%AC%E0%A4%9A%E0%A4%BE%20%E0%A4%B9%E0%A5%88%2C%20%E0%A4%A4%E0%A5%8B%20%E0%A4%AF%20%E0%A4%95%E0%A5%8D%E0%A4%B7%E0%A4%BF%E0%A4%A8%E0%A4%95%E0%A5%8B%20%E0%A4%AD%E0%A5%80%20%E0%A4%AA%E0%A4%B9%E0%A4%B2%E0%A5%87%20%E0%A4%AC%E0%A5%8B%E0%A4%B2%E0%A5%87%20%E0%A4%86%E0%A4%97%E0%A4%B0%20%E0%A4%B5%E0%A5%8B%20%E0%A4%AC%E0%A4%9A%E0%A4%BE%20%E0%A4%B9%E0%A5%88%2C%20%E0%A4%A4%E0%A5%8B%20%E0%A4%AF%E0%A4%B9%20%E0%A4%AA%E0%A4%B0%20%E0%A4%AC%E0%A4%9A%E0%A4%BE%20%E0%A4%B9%E0%A5%88%2C%20%E0%A4%A4%E0%A5%8B%20%E0%A4%AF%E0%A4%B9%20%E0%A4%AA%E0%A4%B0%20%E0%A4%AC%E0%A4%9A%E0%A4%BE%20%E0%A4%B9%E0%A5%88%2C%20%E0%A4%A4%E0%A5%8B%20%E0%A4%AF%E0%A4%B9%20%E0%A4%AA%E0%A4%B0%20%E0%A4%AC%E0%A4%9A%E0%A4%BE%20%E0%A4%B9%E0%A5%88%2C%20%E0%A4%A4%E0%A5%8B%20%E0%A4%AF%E0%A4%B9%20%E0%A4%AA%E0%A4%B0%20%E0%A4%AC%E0%A4%9A%E0%A4%BE%20%E0%A4%B9%E0%A5%88%2C%20%E0%A4%A4%E0%A5%8B%20%E0%A4%AF%E0%A4%B9%20%E0%A4%AA%E0%A4%B0%20%E0%A4%AC%E0%A4%9A%E0%A4%BE%20%E0%A4%B9%E0%A5%88%2C%20%E0%A4%A4%E0%A5%8B%20%E0%A4%AF%E0%A4%B9%20%E0%A4%AA%E0%A4%B9%E0%A4%B2%E0%A5%87%20%E0%A4%AC%E0%A5%8B%E0%A4%B2%E0%A5%87%20%E0%A4%AA%E0%A5%8B%E0%A4%B2%E0%A5%87%20%E0%A4%AC%E0%A5%8B%E0%A4%B2%E0%A5%87%20%E0%A4%AC%E0%A4%9A%E0%A4%BE%20%E0%A4%B9%E0%A5%88%2C%20%E0%A4%A4%E0%A5%8B%20%E0%A4%AF%E0%A4%B9%20%E0%A4%AA%E0%A4%B0%20%E0%A4%AC%E0%A4%9A%E0%A4%BE%20%E0%A4%B9%E0%A5%88%2C%20%E0%A4%A4%E0%A5%8B%20%E0%A4%AF%E0%A4%B9%20%E0%A4%AA%E0%A4%B0%20%E0%A4%AC%E0%A4%9A%E0%A4%BE%20%E0%A4%B9%E0%A5%88%20%E0%A4%A4%E0%A5%8B%20%E0%A4%AF%E0%A4%B9%20%E0%A4%AA%E0%A4%B9%E0%A4%B2%E0%A5%87%20%E0%A4%AC%E0%A5%8B%E0%A4%B2%E0%A5%87%20%EF%BF%BD%20%E0%A4%86%E0%A4%AA%20%E0%A4%96%E0%A5%81%E0%A4%B2%E0%A4%BE%20%E0%A4%AA%E0%A4%B0%20%E0%A4%87%E0%A4%B8%E0%A5%87%20%E0%A4%AC%E0%A4%BE%E0%A4%A4%20%E0%A4%A6%E0%A5%87%E0%A4%82%E0%A4%97%E0%A5%87%2C%20%E0%A4%AF%E0%A5%87%20%E0%A4%AA%E0%A4%B0%20%E0%A4%AA%E0%A4%A1%E0%A4%BC%E0%A4%BE%20%E0%A4%A6%E0%A5%87%E0%A4%82%E0%A4%97%E0%A5%87%20%E0%A4%B8%E0%A5%87%20%E0%A4%AA%E0%A4%B0%20%E0%A4%AA%E0%A5%8D%E0%A4%B0%E0%A4%B8%E0%A4%BE%E0%A4%B0%E0%A4%BE%20%E0%A4%B9%E0%A5%88%20%E0%A4%AA%E0%A4%B0%20%E0%A4%AA%E0%A4%B0%20%E0%A4%AA%E0%A5%8D%E0%A4%B0%E0%A4%B8%E0%A4%BE%E0%A4%B0%E0%A4%BE%20%E0%A4%A8%E0%A4%B9%E0%A5%80%E0%A4%82%20%E0%A4%B9%E0%A5%8B%20%E0%A4%97%E0%A4%AF%E0%A4%BE%2C%20%E0%A4%86%E0%A4%AA%20%E0%A4%9C%E0%A4%AC%20%E0%A4%AA%E0%A5%8D%E0%A4%B0%E0%A4%B8%E0%A4%BE%E0%A4%B0%E0%A4%BE%20%E0%A4%A8%E0%A4%B9%E0%A5%80%E0%A4%82%20%E0%A4%B2%E0%A5%87%E0%A4%82%E0%A4%97%E0%A5%87%20%E0%A4%A4%E0%A5%8B%20%E0%A4%85%E0%A4%AA%E0%A4%A8%E0%A5%87%20%E0%A4%B8%E0%A4%BE%E0%A4%A5%20%E0%A4%AA%E0%A4%B0%20%E0%A4%AA%E0%A5%8D%E0%A4%B0%E0%A4%B8%E0%A4%BE%E0%A4%B0%E0%A4%BE%20%E0%A4%A8%E0%A4%B9%E0%A5%80%E0%A4%82%20%E0%A4%B2%E0%A5%87%E0%A4%82%E0%A4%97%E0%A5%87%20%E0%A4%86%E0%A4%AA%E0%A4%95%E0%A5%8B%20%E0%A4%85%E0%A4%AA%E0%A4%A8%E0%A5%87%20%E0%A4%B8%E0%A4%BE%E0%A4%A5%20%E0%A4%AA%E0%A4%B0%20%E0%A4%AA%E0%A5%8D%E0%A4%B0%E0%A4%B8%E0%A4%BE%E0%A4%B0%E0%A4%BE%20%E0%A4%A8%E0%A4%B9%E0%A5%80%E0%A4%82%20%E0%A4%B2%E0%A5%87%E0%A4%82%E0%A4%97%E0%A5%87%2C%20%E0%A4%86%E0%A4%AA%E0%A4%95%E0%A5%8B%20%E0%A4%85%E0%A4%AA%E0%A4%A8%E0%A5%87%20%E0%A4%B8%E0%A4%BE%E0%A4%A5%20%E0%A4%AA%E0%A4%B0%20%E0%A4%AA%E0%A5%8D%E0%A4%B0%E0%A4%B8%E0%A4%BE%E0%A4%B0%E0%A4%BE%20%E0%A4%A8%E0%A4%B9%E0%A5%80%E0%A4%82%20%E0%A4%B2%E0%A5%87%E0%A4%82%E0%A4%97%E0%A5%87%20%E0%A4%AF%E0%A5%87%20%E0%A4%AA%E0%A4%B0%E0%A4%B8%E0%A4%BE%E0%A4%B0%E0%A4%BE%20%E0%A4%A8%E0%A4%B9%E0%A5%80%E0%A4%82%20%E0%A4%B9%E0%A5%8B%20%E0%A4%97%E0%A4%AF%E0%A4%BE%2C%20%E0%A4%86%E0%A4%AA%E0%A4%95%E0%A5%8B%20%E0%A4%85%E0%A4%AA%E0%A4%A8%E0%A5%87%20%E0%A4%B8%E0%A4%BE%E0%A4%A5%20%E0%A4%AA%E0%A4%B0%20%E0%A4%AA%E0%A5%8D%E0%A4%B0%E0%A4%B8%E0%A4%BE%E0%A4%B0%E0%A4%BE%20%E0%A4%A8%E0%A4%B9%E0%A5%80%E0%A4%82%20%E0%A4%B2%E0%A5%87%E0%A4%82%E0%A4%97%E0%A5%87&op=translate'\n",
            "    > Saved verbatim input to sources/1699912360-import.txt\n",
            "\u001b[01;31m\u001b[00;00m 100.0% (240/240sec)    > Parsed 514930 URLs from input (Generic TXT)\n",
            "    > Found 111698 new URLs not already in index\n",
            "\n",
            "\u001b[01;30m[*] [2023-11-13 21:55:52] Writing 111698 links to main index...\u001b[00;00m\n",
            "      \u001b[01;31m\u001b[00;00m 100.0% (120/120sec)"
          ]
        }
      ]
    },
    {
      "cell_type": "markdown",
      "source": [
        "You should be able to download it now (assuming it wasn't too big to fit in disk), a recommended step would be to set up a scheduled backup locally but that's optional."
      ],
      "metadata": {
        "id": "hYWQaGkrbcCL"
      }
    }
  ]
}